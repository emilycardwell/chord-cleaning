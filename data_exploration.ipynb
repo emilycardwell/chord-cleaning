{
 "cells": [
  {
   "attachments": {},
   "cell_type": "markdown",
   "metadata": {},
   "source": [
    "# Data Exploration"
   ]
  },
  {
   "cell_type": "code",
   "execution_count": 7,
   "metadata": {},
   "outputs": [],
   "source": [
    "import pandas as pd\n",
    "import matplotlib.pyplot as plt\n",
    "import ast\n",
    "import numpy as np\n",
    "from collections import Counter\n",
    "import string\n",
    "import os\n",
    "\n",
    "data_path = os.getenv('DATA_PATH')"
   ]
  },
  {
   "cell_type": "code",
   "execution_count": 2,
   "metadata": {},
   "outputs": [
    {
     "data": {
      "text/html": [
       "<div>\n",
       "<style scoped>\n",
       "    .dataframe tbody tr th:only-of-type {\n",
       "        vertical-align: middle;\n",
       "    }\n",
       "\n",
       "    .dataframe tbody tr th {\n",
       "        vertical-align: top;\n",
       "    }\n",
       "\n",
       "    .dataframe thead th {\n",
       "        text-align: right;\n",
       "    }\n",
       "</style>\n",
       "<table border=\"1\" class=\"dataframe\">\n",
       "  <thead>\n",
       "    <tr style=\"text-align: right;\">\n",
       "      <th></th>\n",
       "      <th>artist_name</th>\n",
       "      <th>song_name</th>\n",
       "      <th>chords</th>\n",
       "      <th>genres</th>\n",
       "      <th>popularity</th>\n",
       "    </tr>\n",
       "  </thead>\n",
       "  <tbody>\n",
       "    <tr>\n",
       "      <th>0</th>\n",
       "      <td>Justin Bieber</td>\n",
       "      <td>10,000 Hours</td>\n",
       "      <td>{3: 'G             G/B                        ...</td>\n",
       "      <td>['canadian pop', 'pop', 'post-teen pop']</td>\n",
       "      <td>100</td>\n",
       "    </tr>\n",
       "    <tr>\n",
       "      <th>1</th>\n",
       "      <td>Justin Bieber</td>\n",
       "      <td>2 Much</td>\n",
       "      <td>{1: 'Intro: F#m7  D2 ', 4: 'F#m7 ', 8: 'D2 ', ...</td>\n",
       "      <td>['canadian pop', 'pop', 'post-teen pop']</td>\n",
       "      <td>100</td>\n",
       "    </tr>\n",
       "    <tr>\n",
       "      <th>2</th>\n",
       "      <td>Justin Bieber</td>\n",
       "      <td>2u (feat. David Guetta)</td>\n",
       "      <td>{1: 'Em            D         C               C...</td>\n",
       "      <td>['canadian pop', 'pop', 'post-teen pop']</td>\n",
       "      <td>100</td>\n",
       "    </tr>\n",
       "  </tbody>\n",
       "</table>\n",
       "</div>"
      ],
      "text/plain": [
       "     artist_name                song_name   \n",
       "0  Justin Bieber             10,000 Hours  \\\n",
       "1  Justin Bieber                   2 Much   \n",
       "2  Justin Bieber  2u (feat. David Guetta)   \n",
       "\n",
       "                                              chords   \n",
       "0  {3: 'G             G/B                        ...  \\\n",
       "1  {1: 'Intro: F#m7  D2 ', 4: 'F#m7 ', 8: 'D2 ', ...   \n",
       "2  {1: 'Em            D         C               C...   \n",
       "\n",
       "                                     genres  popularity  \n",
       "0  ['canadian pop', 'pop', 'post-teen pop']         100  \n",
       "1  ['canadian pop', 'pop', 'post-teen pop']         100  \n",
       "2  ['canadian pop', 'pop', 'post-teen pop']         100  "
      ]
     },
     "execution_count": 2,
     "metadata": {},
     "output_type": "execute_result"
    }
   ],
   "source": [
    "raw_df = pd.read_csv(data_path)\n",
    "slim_raw_df = raw_df[['artist_name', 'song_name', 'chords', 'genres', 'popularity']]\n",
    "slim_raw_df.head(3)"
   ]
  },
  {
   "cell_type": "code",
   "execution_count": 3,
   "metadata": {},
   "outputs": [
    {
     "name": "stdout",
     "output_type": "stream",
     "text": [
      "the song is 35 measures long.\n",
      "the first 4 lines of chords are:\n",
      "G-------------G/B-------------------------C-\n",
      "(length: 44)\n",
      "------------------G-\n",
      "(length: 20)\n",
      "G------------------G/B-------------------------C-\n",
      "(length: 49)\n",
      "----------------G-\n",
      "(length: 18)\n"
     ]
    },
    {
     "data": {
      "image/png": "[encoded data removed]",
      "text/plain": [
       "<Figure size 2000x300 with 1 Axes>"
      ]
     },
     "metadata": {},
     "output_type": "display_data"
    }
   ],
   "source": [
    "song_ch_lol = []\n",
    "i = 0\n",
    "\n",
    "song1 = slim_raw_df.chords[0]\n",
    "\n",
    "song_mm_ch_dict = ast.literal_eval(song1)\n",
    "song_ch_lol = [ch for ch in song_mm_ch_dict.values()]\n",
    "max_line = len(song_ch_lol)\n",
    "\n",
    "print(f'the song is {max_line} measures long.')\n",
    "print('the first 4 lines of chords are:')\n",
    "for ch in song_ch_lol:\n",
    "    new = ch.replace(\" \", \"-\")\n",
    "    print(new)\n",
    "    l = len(new)\n",
    "    print(f'(length: {l})')\n",
    "    i += 1\n",
    "    if i == 4: break\n",
    "\n",
    "# get line lengths\n",
    "line_lens = [len(x) for x in song_ch_lol]\n",
    "max_line_len = max(line_lens)\n",
    "\n",
    "# {measure_no: chords_list}: dict\n",
    "measures = [x for x in range(1, len(song_ch_lol)+1)]\n",
    "\n",
    "fig1, ax1 = plt.subplots(figsize=(20,3))\n",
    "ax1.axhline(max_line_len/2, color='red')\n",
    "ax1.bar(measures, line_lens)\n",
    "xt = np.arange(1, max_line+1, 4)\n",
    "ax1.set(xticks=xt, xticklabels=xt)\n",
    "plt.show()"
   ]
  },
  {
   "cell_type": "markdown",
   "metadata": {},
   "source": [
    "#### See Chord Frequency"
   ]
  },
  {
   "cell_type": "code",
   "execution_count": 4,
   "metadata": {},
   "outputs": [
    {
     "data": {
      "text/plain": [
       "0    [G             G/B                         C ,...\n",
       "1    [Intro: F#m7  D2 , F#m7 , D2 , F#m7 ,         ...\n",
       "2    [Em            D         C               C  D ...\n",
       "3    [ Intro: Em  Bm  Am  C   (2x) ,           Em  ...\n",
       "4    [Intro: Gm - Dm - C - C   x2 ,        Gm      ...\n",
       "dtype: object"
      ]
     },
     "execution_count": 4,
     "metadata": {},
     "output_type": "execute_result"
    }
   ],
   "source": [
    "chords_ser_raw = slim_raw_df.chords.copy()\n",
    "\n",
    "chords_ser_lists = pd.Series(index=range(len(slim_raw_df)), dtype='object')\n",
    "\n",
    "for i, song in enumerate(chords_ser_raw):\n",
    "    song_mm_ch_dict = ast.literal_eval(song)\n",
    "    song_ch_lol = [ch for ch in song_mm_ch_dict.values()]\n",
    "    chords_ser_lists.iloc[i] = song_ch_lol\n",
    "\n",
    "chords_ser_lists.head()"
   ]
  },
  {
   "cell_type": "code",
   "execution_count": 8,
   "metadata": {},
   "outputs": [
    {
     "name": "stdout",
     "output_type": "stream",
     "text": [
      "the total amount of unique \"chords\" is:  103294\n"
     ]
    }
   ],
   "source": [
    "chords_counter = Counter()\n",
    "for song in chords_ser_lists:\n",
    "    for line in song:\n",
    "        l = line.split(' ')\n",
    "        chords_counter.update(l)\n",
    "del chords_counter['']\n",
    "\n",
    "chord_count_df = pd.Series(dict(chords_counter)).to_frame('chord_count')\n",
    "sorted_cc_df = chord_count_df.sort_values(by='chord_count', ascending=False)\n",
    "print('the total amount of unique \"chords\" is: ', len(sorted_cc_df))"
   ]
  },
  {
   "cell_type": "code",
   "execution_count": null,
   "metadata": {},
   "outputs": [],
   "source": [
    "# pd.options.display.max_rows = 100\n",
    "# sorted_cc_df.head(100)"
   ]
  },
  {
   "cell_type": "code",
   "execution_count": 9,
   "metadata": {},
   "outputs": [
    {
     "name": "stdout",
     "output_type": "stream",
     "text": [
      "the total amount of unique \"chords\" is:  77872\n"
     ]
    }
   ],
   "source": [
    "letters = list(string.ascii_uppercase)[:7]\n",
    "non_chord_filter = [chord for chord in sorted_cc_df.index if chord[0] in letters]\n",
    "filtered_cc_df = sorted_cc_df[sorted_cc_df.index.isin(non_chord_filter)]\n",
    "print('the total amount of unique \"chords\" is: ', len(filtered_cc_df))"
   ]
  },
  {
   "cell_type": "code",
   "execution_count": null,
   "metadata": {},
   "outputs": [],
   "source": [
    "# pd.set_option('display.max_rows', 200)\n",
    "# filtered_cc_df.iloc[0:200]"
   ]
  },
  {
   "cell_type": "code",
   "execution_count": null,
   "metadata": {},
   "outputs": [],
   "source": [
    "# slim_chord_counts_dict = {}\n",
    "# for chord, count in chords_count_dict.items():\n",
    "#     if count <= low_freq_to_remove:\n",
    "#         pass\n",
    "#     else:\n",
    "#         slim_chord_counts_dict[chord] = count"
   ]
  }
 ],
 "metadata": {
  "kernelspec": {
   "display_name": "chord-cleaning",
   "language": "python",
   "name": "python3"
  },
  "language_info": {
   "codemirror_mode": {
    "name": "ipython",
    "version": 3
   },
   "file_extension": ".py",
   "mimetype": "text/x-python",
   "name": "python",
   "nbconvert_exporter": "python",
   "pygments_lexer": "ipython3",
   "version": "3.10.6"
  },
  "orig_nbformat": 4
 },
 "nbformat": 4,
 "nbformat_minor": 2
}
