{
 "cells": [
  {
   "attachments": {},
   "cell_type": "markdown",
   "metadata": {},
   "source": [
    "# Chord Cleaning"
   ]
  },
  {
   "attachments": {},
   "cell_type": "markdown",
   "metadata": {},
   "source": [
    "### Imports"
   ]
  },
  {
   "cell_type": "code",
   "execution_count": 1,
   "metadata": {},
   "outputs": [],
   "source": [
    "import pandas as pd\n",
    "import numpy as np\n",
    "import re\n",
    "import ast\n",
    "from collections import Counter\n",
    "import matplotlib.pyplot as plt\n",
    "import os\n",
    "import json"
   ]
  },
  {
   "attachments": {},
   "cell_type": "markdown",
   "metadata": {},
   "source": [
    "### Getting workable DF"
   ]
  },
  {
   "cell_type": "code",
   "execution_count": 2,
   "metadata": {},
   "outputs": [],
   "source": [
    "data_path = os.getenv('DATA_PATH')"
   ]
  },
  {
   "cell_type": "code",
   "execution_count": 3,
   "metadata": {},
   "outputs": [
    {
     "data": {
      "text/html": [
       "<div>\n",
       "<style scoped>\n",
       "    .dataframe tbody tr th:only-of-type {\n",
       "        vertical-align: middle;\n",
       "    }\n",
       "\n",
       "    .dataframe tbody tr th {\n",
       "        vertical-align: top;\n",
       "    }\n",
       "\n",
       "    .dataframe thead th {\n",
       "        text-align: right;\n",
       "    }\n",
       "</style>\n",
       "<table border=\"1\" class=\"dataframe\">\n",
       "  <thead>\n",
       "    <tr style=\"text-align: right;\">\n",
       "      <th></th>\n",
       "      <th>artist_name</th>\n",
       "      <th>song_name</th>\n",
       "      <th>chords</th>\n",
       "      <th>genres</th>\n",
       "      <th>popularity</th>\n",
       "    </tr>\n",
       "  </thead>\n",
       "  <tbody>\n",
       "    <tr>\n",
       "      <th>0</th>\n",
       "      <td>Justin Bieber</td>\n",
       "      <td>10,000 Hours</td>\n",
       "      <td>{3: 'G             G/B                        ...</td>\n",
       "      <td>['canadian pop', 'pop', 'post-teen pop']</td>\n",
       "      <td>100</td>\n",
       "    </tr>\n",
       "    <tr>\n",
       "      <th>1</th>\n",
       "      <td>Justin Bieber</td>\n",
       "      <td>2 Much</td>\n",
       "      <td>{1: 'Intro: F#m7  D2 ', 4: 'F#m7 ', 8: 'D2 ', ...</td>\n",
       "      <td>['canadian pop', 'pop', 'post-teen pop']</td>\n",
       "      <td>100</td>\n",
       "    </tr>\n",
       "    <tr>\n",
       "      <th>2</th>\n",
       "      <td>Justin Bieber</td>\n",
       "      <td>2u (feat. David Guetta)</td>\n",
       "      <td>{1: 'Em            D         C               C...</td>\n",
       "      <td>['canadian pop', 'pop', 'post-teen pop']</td>\n",
       "      <td>100</td>\n",
       "    </tr>\n",
       "  </tbody>\n",
       "</table>\n",
       "</div>"
      ],
      "text/plain": [
       "     artist_name                song_name   \n",
       "0  Justin Bieber             10,000 Hours  \\\n",
       "1  Justin Bieber                   2 Much   \n",
       "2  Justin Bieber  2u (feat. David Guetta)   \n",
       "\n",
       "                                              chords   \n",
       "0  {3: 'G             G/B                        ...  \\\n",
       "1  {1: 'Intro: F#m7  D2 ', 4: 'F#m7 ', 8: 'D2 ', ...   \n",
       "2  {1: 'Em            D         C               C...   \n",
       "\n",
       "                                     genres  popularity  \n",
       "0  ['canadian pop', 'pop', 'post-teen pop']         100  \n",
       "1  ['canadian pop', 'pop', 'post-teen pop']         100  \n",
       "2  ['canadian pop', 'pop', 'post-teen pop']         100  "
      ]
     },
     "execution_count": 3,
     "metadata": {},
     "output_type": "execute_result"
    }
   ],
   "source": [
    "raw_df = pd.read_csv(data_path)\n",
    "slim_raw_df = raw_df[['artist_name', 'song_name', 'chords', 'genres', 'popularity']]\n",
    "slim_raw_df.head(3)"
   ]
  },
  {
   "attachments": {},
   "cell_type": "markdown",
   "metadata": {},
   "source": [
    "## Cleaning"
   ]
  },
  {
   "attachments": {},
   "cell_type": "markdown",
   "metadata": {},
   "source": [
    "### Clean DF"
   ]
  },
  {
   "cell_type": "code",
   "execution_count": 4,
   "metadata": {},
   "outputs": [
    {
     "data": {
      "text/plain": [
       "0    G G/B C G G G/B C G G Em C G G Em C G G Em C G...\n",
       "1    Intro: F#m7 D2 F#m7 D2 F#m7 D2 E F#m7 A/C# E D...\n",
       "2    Em D C C D Em Em D C C D Em Em D C Am D Em G C...\n",
       "3     Intro: Em Bm Am C 2x Em Bm Am C Em Bm Am C Bm...\n",
       "4    Intro: Gm - Dm - C - C x2 Gm Dm C C Gm Dm C C ...\n",
       "dtype: object"
      ]
     },
     "execution_count": 4,
     "metadata": {},
     "output_type": "execute_result"
    }
   ],
   "source": [
    "chords_ser_raw = slim_raw_df.chords.copy()\n",
    "\n",
    "chords_ser_lists = pd.Series(index=range(len(chords_ser_raw)), dtype='object')\n",
    "\n",
    "for i, song in enumerate(chords_ser_raw):\n",
    "    song_mm_ch_dict = ast.literal_eval(song)\n",
    "    song_ch_lol = ' '.join([ch for ch in song_mm_ch_dict.values()])\n",
    "    song_ch_lol = re.sub(r'[()]', '', song_ch_lol)\n",
    "    song_ch_lol = re.sub(r'\\s+', ' ', song_ch_lol)\n",
    "    chords_ser_lists.iloc[i] = song_ch_lol\n",
    "\n",
    "chords_ser_lists.head()"
   ]
  },
  {
   "cell_type": "code",
   "execution_count": 5,
   "metadata": {},
   "outputs": [
    {
     "name": "stdout",
     "output_type": "stream",
     "text": [
      "the total amount of unique \"chords\" is:  87096\n"
     ]
    }
   ],
   "source": [
    "cleaned_chords_counter = Counter()\n",
    "for song in chords_ser_lists:\n",
    "    try:\n",
    "        l = song.split(' ')\n",
    "    except:\n",
    "        print(song)\n",
    "        break\n",
    "    cleaned_chords_counter.update(l)\n",
    "del cleaned_chords_counter['']\n",
    "\n",
    "cleaned_chord_count_df = pd.Series(dict(cleaned_chords_counter)).to_frame('chord_count')\n",
    "cleaned_cc_df = cleaned_chord_count_df.sort_values(by='chord_count', ascending=False).reset_index(names=['chord'])\n",
    "print('the total amount of unique \"chords\" is: ', len(cleaned_cc_df))"
   ]
  },
  {
   "attachments": {},
   "cell_type": "markdown",
   "metadata": {},
   "source": [
    "### String Cleaning (takes ages)"
   ]
  },
  {
   "cell_type": "code",
   "execution_count": 6,
   "metadata": {},
   "outputs": [],
   "source": [
    "# raw_chords_ser = chords_ser_lists.copy()\n",
    "# cleaned_chords_ser = pd.Series(index=range(len(raw_chords_ser)), dtype='object')"
   ]
  },
  {
   "cell_type": "code",
   "execution_count": 7,
   "metadata": {},
   "outputs": [],
   "source": [
    "# # bar charts\n",
    "# re1 = r'\\S*[|]\\S+[|]'\n",
    "# # repeat symbols \n",
    "# re2 = r'%|2x|x[0-9]|x\\s+[0-9]|\\s-\\s|\\s/\\s'\n",
    "# # non-useful punctuation\n",
    "# re3 = r'[|,.*?]|\\\\|~'\n",
    "# # more than 3 numbers in a row\n",
    "# re4 = r'[0-9]{4,}'\n",
    "# # words starting with letters after G\n",
    "# re5 = r'\\s+[H-Zh-z]\\w*' \n",
    "# # special words\n",
    "# words = ['intro', 'interlude', 'bridge', 'INTRODUÇÃO', 'instrumental', \n",
    "#          'solo', 'chorus', 'riff', 'break', 'guitar', 'verse', 'dução', \n",
    "#          'final', 'once', '-once', 'hammer', 'outro', '-stop', 'repeat']\n",
    "# re6 = r\"|\".join(words)\n",
    "\n",
    "# full_re = re.compile(\"|\".join([re1, re2, re3, re4, re5, re6]), re.IGNORECASE)"
   ]
  },
  {
   "cell_type": "code",
   "execution_count": 8,
   "metadata": {},
   "outputs": [],
   "source": [
    "# for i, song in enumerate(raw_chords_ser):\n",
    "    \n",
    "#     cleaned_song = ''\n",
    "#     j = 0\n",
    "#     for line in song:\n",
    "\n",
    "#         # remove unhelpful symbols (as shown above)\n",
    "#         subs = re.sub(full_re, ' ', line, )\n",
    "        \n",
    "#         # remove parentheses, brackets, and colons\n",
    "#         cleaned_string = re.sub(r'[(){}:]', '', subs)\n",
    "\n",
    "#         # remove multiple spaces\n",
    "#         mult_sp_rem_ch = re.sub(r'\\s+', ' ', cleaned_string)\n",
    "        \n",
    "#         # remove front and trailing white spaces\n",
    "#         beg_end_sp_rem_song = re.sub(r'^\\s+|\\s+$', '', mult_sp_rem_ch)\n",
    "\n",
    "#         if j < len(song)-1:\n",
    "#             cleaned_song += beg_end_sp_rem_song + ' '\n",
    "#             j += 1\n",
    "#         else:\n",
    "#             cleaned_song += beg_end_sp_rem_song\n",
    "            \n",
    "#     cleaned_chords_ser.iloc[i] = cleaned_song"
   ]
  },
  {
   "attachments": {},
   "cell_type": "markdown",
   "metadata": {},
   "source": [
    "## Creating List of Correctly Formatted Chords"
   ]
  },
  {
   "cell_type": "code",
   "execution_count": 9,
   "metadata": {},
   "outputs": [],
   "source": [
    "major_chords = ['C', 'C#', 'Db', 'D', 'D#', 'Eb', 'E', 'F', 'F#', 'Gb', 'G', 'G#', 'Ab', 'A', 'A#', 'Bb', 'B']"
   ]
  },
  {
   "cell_type": "code",
   "execution_count": 10,
   "metadata": {},
   "outputs": [],
   "source": [
    "chords_df = pd.DataFrame(index=['dim', 'm', '', 'aug', '5',\n",
    "                                'dim7', 'm7b5', 'm7', 'mM7', '7', 'M7',\n",
    "                                '7#5', '7b5', \n",
    "                                'm6', '6', '67', '69',\n",
    "                                'm9', '9', '7b9', '7#9', 'M9',  \n",
    "                                'm11', '11', '13', 'm13',\n",
    "                                'sus2', 'sus4', 'sus47', 'susb9', 'sus4b9',\n",
    "                                # 'add2', 'add4', 'add6', 'add9', \n",
    "                                # 'madd2', 'madd4', 'madd6', 'madd9', \n",
    "                                # '7add4', '7addb6', '7add6'\n",
    "                                ],\n",
    "                         columns=major_chords)\n"
   ]
  },
  {
   "cell_type": "code",
   "execution_count": 11,
   "metadata": {},
   "outputs": [],
   "source": [
    "for idx in chords_df.index:\n",
    "    new_chords = [m + idx for m in major_chords]\n",
    "    chords_df.loc[idx, :] = new_chords\n",
    "chords_df.rename(index={'': 'major'}, inplace=True)\n",
    "# chords_df.index"
   ]
  },
  {
   "cell_type": "code",
   "execution_count": 12,
   "metadata": {},
   "outputs": [],
   "source": [
    "sharp_notes = ['C', 'C#', 'D', 'D#', 'E', 'F', 'F#', 'G', 'G#', 'A', 'A#', 'B', \n",
    "                'C', 'C#', 'D', 'D#', 'E', 'F', 'F#', 'G', 'G#', 'A', 'A#', 'B']\n",
    "flats_notes = ['C', 'Db', 'D', 'Eb', 'E', 'F', 'Gb', 'G', 'Ab', 'A', 'Bb', 'B', \n",
    "                'C', 'Db', 'D', 'Eb', 'E', 'F', 'Gb', 'G', 'Ab', 'A', 'Bb', 'B']\n",
    "sharp_keys = ['D', 'E', 'G', 'A', 'B', 'Dm', 'Em', 'Fm', 'Bm']\n",
    "flats_keys = ['C', 'F', 'Cm', 'Gm', 'Am']\n",
    "\n",
    "slash_indexes = ['dim/b7', 'm/2', 'm/b3', 'm/3', 'm/4', 'm/5', 'm/6','m/b7', 'm/7',\n",
    "                'm7/b3', 'm7/4', 'm7/b5', 'm7/5', 'm7/b7', 'm7/7', \n",
    "                '/2', '/b3', '/3', '/4', '/5', '/6','/b7', '/7', \n",
    "                '7/b2', '7/2', '7/b3', '7/3', '7/4', '7/5', '7/b6', '7/6','7/7', \n",
    "                '9/b3', '9/3', '9/4', '9/5', '9/6', '9/7',\n",
    "                'M7/2', 'M7/b3', 'M7/3', 'M7/4', 'M7/5', 'M7/6','M7/b7']\n",
    "\n",
    "whole_to_half = {'b2': 1, '2': 2, 'b3': 3, '3': 4, '4': 5, 'b5': 6,\n",
    "                 '5': 7, 'b6': 8,'6': 9, 'b7': 10, '7': 11}"
   ]
  },
  {
   "cell_type": "code",
   "execution_count": 13,
   "metadata": {},
   "outputs": [],
   "source": [
    "# big function\n",
    "def get_slash_notes(slash_indexes, columns):\n",
    "    slash_chord = pd.DataFrame(index=slash_indexes, columns=columns)\n",
    "    i = 0 \n",
    "    \n",
    "    def find_slash(chord, notes, i):\n",
    "        for si in slash_indexes:\n",
    "            s = si.split('/')\n",
    "            h = whole_to_half[s[1]]\n",
    "            sc = f'{chord}{s[0]}/{notes[i+h]}'\n",
    "            slash_chord.loc[si, chord] = sc\n",
    "    \n",
    "    def sort_f_s(chord, notes):\n",
    "        for n in notes:\n",
    "            if len(chord) > 1:\n",
    "                i = notes.index(chord)\n",
    "                find_slash(chord, notes, i)\n",
    "            else:\n",
    "                i = notes.index(chord[0])\n",
    "                find_slash(chord, notes, i)\n",
    "    \n",
    "    for chord in columns:\n",
    "        if chord in sharp_keys or '#' in chord:\n",
    "            sort_f_s(chord, sharp_notes)\n",
    "        else:\n",
    "            sort_f_s(chord, flats_notes)\n",
    "                \n",
    "            \n",
    "    return slash_chord"
   ]
  },
  {
   "cell_type": "code",
   "execution_count": 14,
   "metadata": {},
   "outputs": [
    {
     "data": {
      "text/plain": [
       "Index(['dim', 'm', 'major', 'aug', '5', 'dim7', 'm7b5', 'm7', 'mM7', '7', 'M7',\n",
       "       '7#5', '7b5', 'm6', '6', '67', '69', 'm9', '9', '7b9', '7#9', 'M9',\n",
       "       'm11', '11', '13', 'm13', 'sus2', 'sus4', 'sus47', 'susb9', 'sus4b9',\n",
       "       'dim/b7', 'm/2', 'm/b3', 'm/3', 'm/4', 'm/5', 'm/6', 'm/b7', 'm/7',\n",
       "       'm7/b3', 'm7/4', 'm7/b5', 'm7/5', 'm7/b7', 'm7/7', '/2', '/b3', '/3',\n",
       "       '/4', '/5', '/6', '/b7', '/7', '7/b2', '7/2', '7/b3', '7/3', '7/4',\n",
       "       '7/5', '7/b6', '7/6', '7/7', '9/b3', '9/3', '9/4', '9/5', '9/6', '9/7',\n",
       "       'M7/2', 'M7/b3', 'M7/3', 'M7/4', 'M7/5', 'M7/6', 'M7/b7'],\n",
       "      dtype='object')"
      ]
     },
     "execution_count": 14,
     "metadata": {},
     "output_type": "execute_result"
    }
   ],
   "source": [
    "slash_chords_df = pd.concat([chords_df, get_slash_notes(slash_indexes, chords_df.columns)])\n",
    "slash_chords_df.index"
   ]
  },
  {
   "attachments": {},
   "cell_type": "markdown",
   "metadata": {},
   "source": [
    "## Shove chords into correct format"
   ]
  },
  {
   "cell_type": "code",
   "execution_count": 15,
   "metadata": {},
   "outputs": [],
   "source": [
    "yes_chords = list(slash_chords_df.values[0])\n",
    "for x in slash_chords_df.values[1:]:\n",
    "    chords = list(x)\n",
    "    for c in chords:\n",
    "        yes_chords.append(c)"
   ]
  },
  {
   "cell_type": "code",
   "execution_count": 16,
   "metadata": {},
   "outputs": [],
   "source": [
    "substitutions = {'º': 'dim', \n",
    "                 '*': 'dim', \n",
    "                 '°': 'dim',\n",
    "                 'hdim7': 'm7b5',\n",
    "                 'm75-': 'm7b5',\n",
    "                 'm5-/7': 'm7b5',\n",
    "                 'maj': '',\n",
    "                 ',': '', \n",
    "                 '5+': 'aug', \n",
    "                 '/5+': 'aug', \n",
    "                 '7M': 'M7', \n",
    "                 'maj7': 'M7', \n",
    "                 'm7+': 'mM7', \n",
    "                 '7+': '7#5',\n",
    "                 '9add6': '69', \n",
    "                 '/9-': '7b9', \n",
    "                 '79': '9', \n",
    "                 '711': '11', \n",
    "                 '7b13': 'm13', \n",
    "                 '713': '13', \n",
    "                 '4/7/9': '11', \n",
    "                 '59': '9',\n",
    "                 '/9': '9', \n",
    "                 '/13-': 'm6', \n",
    "                 '/13': '6', \n",
    "                 'add6': '13',\n",
    "                 '2': '9', \n",
    "                 '4': '11', \n",
    "                 '6': '13', \n",
    "                 'sus': 'sus4', \n",
    "                 'add9': '9',\n",
    "                 'm7/5-': 'm7b5',\n",
    "                 }"
   ]
  },
  {
   "cell_type": "code",
   "execution_count": 17,
   "metadata": {},
   "outputs": [],
   "source": [
    "enharmonics = ['Gm/Bb', 'F#/Bb', 'B/Eb', 'Am/F', 'G/Bb', 'F#/D', 'B/C', 'E/Ab', 'B/G']"
   ]
  },
  {
   "cell_type": "code",
   "execution_count": 18,
   "metadata": {},
   "outputs": [],
   "source": [
    "def merge_chords(chords_column):\n",
    "    chords_column_copy = chords_column.copy()\n",
    "    \n",
    "    # if keys in subs in chord, replace with values\n",
    "    rejected = []\n",
    "    def check_subs(chord):\n",
    "        if 'x' in chord:\n",
    "            rejected.append(chord)\n",
    "            return\n",
    "        elif chord in yes_chords:\n",
    "            return chord\n",
    "        elif chord in enharmonics:\n",
    "            return chord\n",
    "        for k in list(substitutions.keys()):\n",
    "            if k in chord: \n",
    "                return chord.replace(k, substitutions[k]) \n",
    "                \n",
    "        rejected.append(chord)\n",
    "        return \n",
    "    \n",
    "    merged_chords = []\n",
    "    for song in chords_column_copy:\n",
    "        song_l = song.split()\n",
    "        merged_song = []\n",
    "        for ch in song_l:\n",
    "            chs = check_subs(ch)\n",
    "            if chs != None: \n",
    "                merged_song.append(chs)\n",
    "        \n",
    "        final_song = [x for i, x in enumerate(merged_song) if i == 0 or x != merged_song[i-1]]\n",
    "                \n",
    "        merged_chords.append(final_song)\n",
    "    \n",
    "    rejects_c = Counter(rejected)\n",
    "    \n",
    "    rejects_df = pd.Series(dict(rejects_c)).to_frame('rejects').sort_values(by='rejects', ascending=False)\n",
    " \n",
    "    return merged_chords, rejects_df"
   ]
  },
  {
   "cell_type": "code",
   "execution_count": 19,
   "metadata": {},
   "outputs": [],
   "source": [
    "merged, rejects = merge_chords(chords_ser_lists)"
   ]
  },
  {
   "cell_type": "code",
   "execution_count": 20,
   "metadata": {},
   "outputs": [
    {
     "data": {
      "text/plain": [
       "['G',\n",
       " 'G/B',\n",
       " 'C',\n",
       " 'G',\n",
       " 'G/B',\n",
       " 'C',\n",
       " 'G',\n",
       " 'Em',\n",
       " 'C',\n",
       " 'G',\n",
       " 'Em',\n",
       " 'C',\n",
       " 'G',\n",
       " 'Em',\n",
       " 'C',\n",
       " 'G',\n",
       " 'Em',\n",
       " 'C',\n",
       " 'G',\n",
       " 'Em',\n",
       " 'C',\n",
       " 'G',\n",
       " 'Em',\n",
       " 'C',\n",
       " 'G',\n",
       " 'Em',\n",
       " 'C',\n",
       " 'G',\n",
       " 'G/B',\n",
       " 'C',\n",
       " 'G',\n",
       " 'G/B',\n",
       " 'C',\n",
       " 'G',\n",
       " 'Em',\n",
       " 'C',\n",
       " 'G',\n",
       " 'Em',\n",
       " 'C',\n",
       " 'G',\n",
       " 'Em',\n",
       " 'C',\n",
       " 'G',\n",
       " 'Em',\n",
       " 'C',\n",
       " 'G',\n",
       " 'Em',\n",
       " 'C',\n",
       " 'G',\n",
       " 'Em',\n",
       " 'C',\n",
       " 'G',\n",
       " 'Em',\n",
       " 'C',\n",
       " 'G',\n",
       " 'Em',\n",
       " 'C',\n",
       " 'G',\n",
       " 'Bm',\n",
       " 'C',\n",
       " 'Bm',\n",
       " 'C',\n",
       " 'G',\n",
       " 'Em',\n",
       " 'C',\n",
       " 'G',\n",
       " 'Em',\n",
       " 'C',\n",
       " 'G',\n",
       " 'Em',\n",
       " 'C',\n",
       " 'G',\n",
       " 'Em',\n",
       " 'C',\n",
       " 'G',\n",
       " 'Em',\n",
       " 'C',\n",
       " 'G',\n",
       " 'Em',\n",
       " 'C',\n",
       " 'G',\n",
       " 'Em',\n",
       " 'C',\n",
       " 'G',\n",
       " 'Em',\n",
       " 'C',\n",
       " 'G']"
      ]
     },
     "execution_count": 20,
     "metadata": {},
     "output_type": "execute_result"
    }
   ],
   "source": [
    "merged[0]"
   ]
  },
  {
   "cell_type": "code",
   "execution_count": 21,
   "metadata": {},
   "outputs": [
    {
     "data": {
      "text/html": [
       "<div>\n",
       "<style scoped>\n",
       "    .dataframe tbody tr th:only-of-type {\n",
       "        vertical-align: middle;\n",
       "    }\n",
       "\n",
       "    .dataframe tbody tr th {\n",
       "        vertical-align: top;\n",
       "    }\n",
       "\n",
       "    .dataframe thead th {\n",
       "        text-align: right;\n",
       "    }\n",
       "</style>\n",
       "<table border=\"1\" class=\"dataframe\">\n",
       "  <thead>\n",
       "    <tr style=\"text-align: right;\">\n",
       "      <th></th>\n",
       "      <th>rejects</th>\n",
       "    </tr>\n",
       "  </thead>\n",
       "  <tbody>\n",
       "    <tr>\n",
       "      <th>Intro:</th>\n",
       "      <td>41954</td>\n",
       "    </tr>\n",
       "    <tr>\n",
       "      <th>|</th>\n",
       "      <td>38288</td>\n",
       "    </tr>\n",
       "    <tr>\n",
       "      <th>-</th>\n",
       "      <td>34551</td>\n",
       "    </tr>\n",
       "    <tr>\n",
       "      <th>Intro</th>\n",
       "      <td>16296</td>\n",
       "    </tr>\n",
       "    <tr>\n",
       "      <th>Bridge</th>\n",
       "      <td>10232</td>\n",
       "    </tr>\n",
       "    <tr>\n",
       "      <th>2x</th>\n",
       "      <td>9154</td>\n",
       "    </tr>\n",
       "    <tr>\n",
       "      <th>x2</th>\n",
       "      <td>9037</td>\n",
       "    </tr>\n",
       "    <tr>\n",
       "      <th>/</th>\n",
       "      <td>8069</td>\n",
       "    </tr>\n",
       "    <tr>\n",
       "      <th>Bridge:</th>\n",
       "      <td>8020</td>\n",
       "    </tr>\n",
       "    <tr>\n",
       "      <th>Solo</th>\n",
       "      <td>4767</td>\n",
       "    </tr>\n",
       "    <tr>\n",
       "      <th>Introdução:</th>\n",
       "      <td>4031</td>\n",
       "    </tr>\n",
       "    <tr>\n",
       "      <th>Solo:</th>\n",
       "      <td>3635</td>\n",
       "    </tr>\n",
       "    <tr>\n",
       "      <th>INTRO:</th>\n",
       "      <td>2807</td>\n",
       "    </tr>\n",
       "    <tr>\n",
       "      <th>4x</th>\n",
       "      <td>2775</td>\n",
       "    </tr>\n",
       "    <tr>\n",
       "      <th>intro</th>\n",
       "      <td>2686</td>\n",
       "    </tr>\n",
       "    <tr>\n",
       "      <th>Interlude:</th>\n",
       "      <td>2679</td>\n",
       "    </tr>\n",
       "    <tr>\n",
       "      <th>:</th>\n",
       "      <td>2652</td>\n",
       "    </tr>\n",
       "    <tr>\n",
       "      <th>?</th>\n",
       "      <td>2453</td>\n",
       "    </tr>\n",
       "    <tr>\n",
       "      <th>x4</th>\n",
       "      <td>2430</td>\n",
       "    </tr>\n",
       "    <tr>\n",
       "      <th>INTRO</th>\n",
       "      <td>2291</td>\n",
       "    </tr>\n",
       "  </tbody>\n",
       "</table>\n",
       "</div>"
      ],
      "text/plain": [
       "             rejects\n",
       "Intro:         41954\n",
       "|              38288\n",
       "-              34551\n",
       "Intro          16296\n",
       "Bridge         10232\n",
       "2x              9154\n",
       "x2              9037\n",
       "/               8069\n",
       "Bridge:         8020\n",
       "Solo            4767\n",
       "Introdução:     4031\n",
       "Solo:           3635\n",
       "INTRO:          2807\n",
       "4x              2775\n",
       "intro           2686\n",
       "Interlude:      2679\n",
       ":               2652\n",
       "?               2453\n",
       "x4              2430\n",
       "INTRO           2291"
      ]
     },
     "execution_count": 21,
     "metadata": {},
     "output_type": "execute_result"
    }
   ],
   "source": [
    "rejects[:20]"
   ]
  },
  {
   "cell_type": "code",
   "execution_count": 22,
   "metadata": {},
   "outputs": [],
   "source": [
    "# final_chords_counter = Counter()\n",
    "# for song in merged:\n",
    "#     final_chords_counter.update(song)\n",
    "# del final_chords_counter['']\n",
    "\n",
    "# final_chord_count_df = pd.Series(dict(final_chords_counter)).to_frame('chord_count')\n",
    "# final_cc_df = final_chord_count_df.sort_values(by='chord_count', ascending=False).reset_index(names=['chord'])\n",
    "# print('the total amount of unique \"chords\" is: ', len(final_cc_df))"
   ]
  },
  {
   "cell_type": "code",
   "execution_count": 23,
   "metadata": {},
   "outputs": [
    {
     "data": {
      "text/html": [
       "<div>\n",
       "<style scoped>\n",
       "    .dataframe tbody tr th:only-of-type {\n",
       "        vertical-align: middle;\n",
       "    }\n",
       "\n",
       "    .dataframe tbody tr th {\n",
       "        vertical-align: top;\n",
       "    }\n",
       "\n",
       "    .dataframe thead th {\n",
       "        text-align: right;\n",
       "    }\n",
       "</style>\n",
       "<table border=\"1\" class=\"dataframe\">\n",
       "  <thead>\n",
       "    <tr style=\"text-align: right;\">\n",
       "      <th></th>\n",
       "      <th>artist_name</th>\n",
       "      <th>song_name</th>\n",
       "      <th>chords</th>\n",
       "      <th>genres</th>\n",
       "      <th>popularity</th>\n",
       "    </tr>\n",
       "  </thead>\n",
       "  <tbody>\n",
       "    <tr>\n",
       "      <th>0</th>\n",
       "      <td>Justin Bieber</td>\n",
       "      <td>10,000 Hours</td>\n",
       "      <td>[G, G/B, C, G, G/B, C, G, Em, C, G, Em, C, G, ...</td>\n",
       "      <td>['canadian pop', 'pop', 'post-teen pop']</td>\n",
       "      <td>100</td>\n",
       "    </tr>\n",
       "    <tr>\n",
       "      <th>1</th>\n",
       "      <td>Justin Bieber</td>\n",
       "      <td>2 Much</td>\n",
       "      <td>[F#m7, D9, F#m7, D9, F#m7, D9, E, F#m7, A/C#, ...</td>\n",
       "      <td>['canadian pop', 'pop', 'post-teen pop']</td>\n",
       "      <td>100</td>\n",
       "    </tr>\n",
       "    <tr>\n",
       "      <th>2</th>\n",
       "      <td>Justin Bieber</td>\n",
       "      <td>2u (feat. David Guetta)</td>\n",
       "      <td>[Em, D, C, D, Em, D, C, D, Em, D, C, Am, D, Em...</td>\n",
       "      <td>['canadian pop', 'pop', 'post-teen pop']</td>\n",
       "      <td>100</td>\n",
       "    </tr>\n",
       "    <tr>\n",
       "      <th>3</th>\n",
       "      <td>Justin Bieber</td>\n",
       "      <td>All Around The World</td>\n",
       "      <td>[Em, Bm, Am, C, Em, Bm, Am, C, Em, Bm, Am, C, ...</td>\n",
       "      <td>['canadian pop', 'pop', 'post-teen pop']</td>\n",
       "      <td>100</td>\n",
       "    </tr>\n",
       "    <tr>\n",
       "      <th>4</th>\n",
       "      <td>Justin Bieber</td>\n",
       "      <td>All Around The World (acoustic)</td>\n",
       "      <td>[Gm, Dm, C, Gm, Dm, C, Gm, Dm, C, Gm, A#, Cdim...</td>\n",
       "      <td>['canadian pop', 'pop', 'post-teen pop']</td>\n",
       "      <td>100</td>\n",
       "    </tr>\n",
       "  </tbody>\n",
       "</table>\n",
       "</div>"
      ],
      "text/plain": [
       "     artist_name                        song_name   \n",
       "0  Justin Bieber                     10,000 Hours  \\\n",
       "1  Justin Bieber                           2 Much   \n",
       "2  Justin Bieber          2u (feat. David Guetta)   \n",
       "3  Justin Bieber             All Around The World   \n",
       "4  Justin Bieber  All Around The World (acoustic)   \n",
       "\n",
       "                                              chords   \n",
       "0  [G, G/B, C, G, G/B, C, G, Em, C, G, Em, C, G, ...  \\\n",
       "1  [F#m7, D9, F#m7, D9, F#m7, D9, E, F#m7, A/C#, ...   \n",
       "2  [Em, D, C, D, Em, D, C, D, Em, D, C, Am, D, Em...   \n",
       "3  [Em, Bm, Am, C, Em, Bm, Am, C, Em, Bm, Am, C, ...   \n",
       "4  [Gm, Dm, C, Gm, Dm, C, Gm, Dm, C, Gm, A#, Cdim...   \n",
       "\n",
       "                                     genres  popularity  \n",
       "0  ['canadian pop', 'pop', 'post-teen pop']         100  \n",
       "1  ['canadian pop', 'pop', 'post-teen pop']         100  \n",
       "2  ['canadian pop', 'pop', 'post-teen pop']         100  \n",
       "3  ['canadian pop', 'pop', 'post-teen pop']         100  \n",
       "4  ['canadian pop', 'pop', 'post-teen pop']         100  "
      ]
     },
     "execution_count": 23,
     "metadata": {},
     "output_type": "execute_result"
    }
   ],
   "source": [
    "final_df = slim_raw_df.copy()\n",
    "final_df['chords'] = pd.Series(merged)\n",
    "final_df.head()"
   ]
  },
  {
   "cell_type": "code",
   "execution_count": 24,
   "metadata": {},
   "outputs": [
    {
     "name": "stdout",
     "output_type": "stream",
     "text": [
      "new data added sucessfully to data/cleaned_data.json\n"
     ]
    },
    {
     "data": {
      "text/html": [
       "<div>\n",
       "<style scoped>\n",
       "    .dataframe tbody tr th:only-of-type {\n",
       "        vertical-align: middle;\n",
       "    }\n",
       "\n",
       "    .dataframe tbody tr th {\n",
       "        vertical-align: top;\n",
       "    }\n",
       "\n",
       "    .dataframe thead th {\n",
       "        text-align: right;\n",
       "    }\n",
       "</style>\n",
       "<table border=\"1\" class=\"dataframe\">\n",
       "  <thead>\n",
       "    <tr style=\"text-align: right;\">\n",
       "      <th></th>\n",
       "      <th>artist_name</th>\n",
       "      <th>song_name</th>\n",
       "      <th>chords</th>\n",
       "      <th>genres</th>\n",
       "      <th>popularity</th>\n",
       "    </tr>\n",
       "  </thead>\n",
       "  <tbody>\n",
       "    <tr>\n",
       "      <th>0</th>\n",
       "      <td>Justin Bieber</td>\n",
       "      <td>10,000 Hours</td>\n",
       "      <td>[G, G/B, C, G, G/B, C, G, Em, C, G, Em, C, G, ...</td>\n",
       "      <td>['canadian pop', 'pop', 'post-teen pop']</td>\n",
       "      <td>100</td>\n",
       "    </tr>\n",
       "    <tr>\n",
       "      <th>1</th>\n",
       "      <td>Justin Bieber</td>\n",
       "      <td>2 Much</td>\n",
       "      <td>[F#m7, D9, F#m7, D9, F#m7, D9, E, F#m7, A/C#, ...</td>\n",
       "      <td>['canadian pop', 'pop', 'post-teen pop']</td>\n",
       "      <td>100</td>\n",
       "    </tr>\n",
       "    <tr>\n",
       "      <th>2</th>\n",
       "      <td>Justin Bieber</td>\n",
       "      <td>2u (feat. David Guetta)</td>\n",
       "      <td>[Em, D, C, D, Em, D, C, D, Em, D, C, Am, D, Em...</td>\n",
       "      <td>['canadian pop', 'pop', 'post-teen pop']</td>\n",
       "      <td>100</td>\n",
       "    </tr>\n",
       "    <tr>\n",
       "      <th>3</th>\n",
       "      <td>Justin Bieber</td>\n",
       "      <td>All Around The World</td>\n",
       "      <td>[Em, Bm, Am, C, Em, Bm, Am, C, Em, Bm, Am, C, ...</td>\n",
       "      <td>['canadian pop', 'pop', 'post-teen pop']</td>\n",
       "      <td>100</td>\n",
       "    </tr>\n",
       "    <tr>\n",
       "      <th>4</th>\n",
       "      <td>Justin Bieber</td>\n",
       "      <td>All Around The World (acoustic)</td>\n",
       "      <td>[Gm, Dm, C, Gm, Dm, C, Gm, Dm, C, Gm, A#, Cdim...</td>\n",
       "      <td>['canadian pop', 'pop', 'post-teen pop']</td>\n",
       "      <td>100</td>\n",
       "    </tr>\n",
       "  </tbody>\n",
       "</table>\n",
       "</div>"
      ],
      "text/plain": [
       "     artist_name                        song_name   \n",
       "0  Justin Bieber                     10,000 Hours  \\\n",
       "1  Justin Bieber                           2 Much   \n",
       "2  Justin Bieber          2u (feat. David Guetta)   \n",
       "3  Justin Bieber             All Around The World   \n",
       "4  Justin Bieber  All Around The World (acoustic)   \n",
       "\n",
       "                                              chords   \n",
       "0  [G, G/B, C, G, G/B, C, G, Em, C, G, Em, C, G, ...  \\\n",
       "1  [F#m7, D9, F#m7, D9, F#m7, D9, E, F#m7, A/C#, ...   \n",
       "2  [Em, D, C, D, Em, D, C, D, Em, D, C, Am, D, Em...   \n",
       "3  [Em, Bm, Am, C, Em, Bm, Am, C, Em, Bm, Am, C, ...   \n",
       "4  [Gm, Dm, C, Gm, Dm, C, Gm, Dm, C, Gm, A#, Cdim...   \n",
       "\n",
       "                                     genres  popularity  \n",
       "0  ['canadian pop', 'pop', 'post-teen pop']         100  \n",
       "1  ['canadian pop', 'pop', 'post-teen pop']         100  \n",
       "2  ['canadian pop', 'pop', 'post-teen pop']         100  \n",
       "3  ['canadian pop', 'pop', 'post-teen pop']         100  \n",
       "4  ['canadian pop', 'pop', 'post-teen pop']         100  "
      ]
     },
     "execution_count": 24,
     "metadata": {},
     "output_type": "execute_result"
    }
   ],
   "source": [
    "# load df to json\n",
    "result = final_df.to_json(orient='table')\n",
    "parsed = json.loads(result)\n",
    "filepath = 'data/cleaned_data.json'\n",
    "\n",
    "# write to json\n",
    "with open(filepath, \"w\") as jsonFile:\n",
    "    json.dump(parsed, jsonFile, indent=4)\n",
    "    print(f'new data added sucessfully to {filepath}')\n",
    "\n",
    "# read from json\n",
    "new_json_df = pd.read_json(filepath, orient='table')\n",
    "new_json_df.head()"
   ]
  },
  {
   "attachments": {},
   "cell_type": "markdown",
   "metadata": {},
   "source": [
    "# Unused Code"
   ]
  },
  {
   "cell_type": "code",
   "execution_count": 25,
   "metadata": {},
   "outputs": [],
   "source": [
    "# first_raw = ast.literal_eval(slim_raw_df.loc[0, 'chords'])\n",
    "# first_raw"
   ]
  },
  {
   "cell_type": "code",
   "execution_count": 26,
   "metadata": {},
   "outputs": [],
   "source": [
    "# rejects_counter = Counter()\n",
    "# for r in rejects:\n",
    "#     for value in song.values():\n",
    "#         l = value.split(' ')\n",
    "#         chords_counter.update(l)\n",
    "\n",
    "# rejects_df = pd.Series(dict(rejects_counter)).to_frame('rejects')\n",
    "# sorted_rej_df = rejects_df.sort_values(by='rejects', ascending=False)\n",
    "# sorted_rej_df"
   ]
  },
  {
   "cell_type": "code",
   "execution_count": 27,
   "metadata": {},
   "outputs": [],
   "source": [
    "# # big function\n",
    "# def translate_slashes(slash_indexes, columns):\n",
    "#     slash_chord = pd.DataFrame(index=slash_indexes, columns=columns)\n",
    "#     i = 0 \n",
    "    \n",
    "#     def find_slash(chord, notes, i):\n",
    "#         for si in slash_indexes:\n",
    "#             s = si.split('/')\n",
    "#             h = whole_to_half[s[1]]\n",
    "#             sc = f'{chord}{s[0]}/{notes[i+h]}'\n",
    "#             slash_chord.loc[si, chord] = sc\n",
    "    \n",
    "#     def sort_f_s(chord, notes):\n",
    "#         for n in notes:\n",
    "#             if n in chord :\n",
    "#                 i = notes.index(chord[0])\n",
    "#                 find_slash(chord, notes, i)\n",
    "#             elif len(chord) > 1:\n",
    "#                 if '#' == chord[1]:\n",
    "#                     i = sharp_notes.index(chord[:2])\n",
    "#                     find_slash(chord, sharp_notes, i)\n",
    "#                 elif 'b' == chord[1]:\n",
    "#                     i = flats_notes.index(chord[:2])\n",
    "#                     find_slash(chord, flats_notes, i)\n",
    "    \n",
    "#     for chord in columns:\n",
    "#         sort_f_s(chord, sharp_notes)\n",
    "#         sort_f_s(chord, flats_notes)\n",
    "                \n",
    "            \n",
    "#     return slash_chord"
   ]
  },
  {
   "cell_type": "code",
   "execution_count": 28,
   "metadata": {},
   "outputs": [],
   "source": [
    "# slash_chords_df = pd.concat([chords_df, get_slash_notes(slash_indexes, chords_df.columns)])\n"
   ]
  },
  {
   "cell_type": "code",
   "execution_count": 29,
   "metadata": {},
   "outputs": [],
   "source": [
    "# r'(?<!\\s)/(?=[0-9])'"
   ]
  },
  {
   "cell_type": "code",
   "execution_count": 30,
   "metadata": {},
   "outputs": [],
   "source": [
    "# pd.set_option('display.max_rows', 50)\n",
    "# cleaned_cc_df[:50]"
   ]
  },
  {
   "cell_type": "code",
   "execution_count": 31,
   "metadata": {},
   "outputs": [],
   "source": [
    "# for idx, c in enumerate(cleaned_chords_ser):\n",
    "#     if ' x ' in c:\n",
    "#         print(idx, c)"
   ]
  },
  {
   "cell_type": "code",
   "execution_count": 32,
   "metadata": {},
   "outputs": [],
   "source": [
    "# for m in raw_chords_ser[101]:\n",
    "#     print(m)"
   ]
  },
  {
   "cell_type": "code",
   "execution_count": 33,
   "metadata": {},
   "outputs": [],
   "source": [
    "# letters = list(string.ascii_uppercase)[:7]\n",
    "# non_chord_filter = [chord for chord in sorted_cc_df.index if chord[0] in letters]\n",
    "# cc_df = sorted_cc_df[sorted_cc_df.index.isin(non_chord_filter)]\n",
    "# cc_df.iloc[100:200]"
   ]
  },
  {
   "cell_type": "markdown",
   "metadata": {},
   "source": [
    "### Test"
   ]
  },
  {
   "cell_type": "code",
   "execution_count": 34,
   "metadata": {},
   "outputs": [],
   "source": [
    "# # editing repeats\n",
    "# test_chords = 'Intro: Gm - Dm - C - C   x2 Gm7   F % Csus4/D'\n",
    "# chords_wo_reps = ''\n",
    "\n",
    "# # find repeat symbols (%, - , x2, 2x) and replace with preceding chord\n",
    "# if re.findall(r'%|2x|x2|\\s-\\s', test_chords):\n",
    "#     reps = re.findall(r'(\\S+)(?=\\s*(%|2x|x2|\\s-\\s))|([A-Z]\\S+)', test_chords)\n",
    "#     for x in reps:\n",
    "#         if x[0] != '':\n",
    "#             chords_wo_reps += x[0] + ' ' + x[0] + ' '\n",
    "#         else:\n",
    "#             chords_wo_reps += x[2] + ' '\n",
    "# else:\n",
    "#     chords_wo_reps = test_chords\n",
    "# print(test_chords)\n",
    "# print(chords_wo_reps)"
   ]
  },
  {
   "cell_type": "code",
   "execution_count": 35,
   "metadata": {},
   "outputs": [],
   "source": [
    "# # cleaning up chords\n",
    "# test2_chords = '      Intro: G-F-G  FMm7,    G\\\\F\\\\F\\\\F,       Amsus6 GM7/D#   (F3)    BbFbCG     '\n",
    "\n",
    "# # remove non-useful punctuation\n",
    "# no_punc_ch = re.sub(r'-+|[()|,.]|\\\\', ' ', test2_chords)\n",
    "\n",
    "# # remove spaces\n",
    "# mult_sp_rem_ch = re.sub(r'\\s+', ' ', no_punc_ch)\n",
    "# beg_sp_rem_ch = re.sub(r'^\\s+', '', mult_sp_rem_ch)\n",
    "# end_sp_rem_ch = re.sub(r'\\s+$', '', beg_sp_rem_ch)\n",
    "    \n",
    "# end_sp_rem_ch"
   ]
  },
  {
   "cell_type": "code",
   "execution_count": 36,
   "metadata": {},
   "outputs": [],
   "source": [
    "# cleaned_chords_counter = Counter()\n",
    "# for song in cleaned_chords_ser:\n",
    "#     try:\n",
    "#         l = song.split(' ')\n",
    "#     except:\n",
    "#         print(song)\n",
    "#         break\n",
    "#     cleaned_chords_counter.update(l)\n",
    "# del cleaned_chords_counter['']\n",
    "\n",
    "# cleaned_chord_count_df = pd.Series(dict(cleaned_chords_counter)).to_frame('chord_count')\n",
    "# cleaned_cc_df = cleaned_chord_count_df.sort_values(by='chord_count', ascending=False).reset_index(names=['chord'])\n",
    "# print('the total amount of unique \"chords\" is: ', len(cleaned_cc_df))"
   ]
  }
 ],
 "metadata": {
  "kernelspec": {
   "display_name": "cleaningenv",
   "language": "python",
   "name": "python3"
  },
  "language_info": {
   "codemirror_mode": {
    "name": "ipython",
    "version": 3
   },
   "file_extension": ".py",
   "mimetype": "text/x-python",
   "name": "python",
   "nbconvert_exporter": "python",
   "pygments_lexer": "ipython3",
   "version": "3.10.6"
  },
  "orig_nbformat": 4,
  "vscode": {
   "interpreter": {
    "hash": "c1c190525d43c763f29b52539e119311a03f272df165330b7f24034aa906f840"
   }
  }
 },
 "nbformat": 4,
 "nbformat_minor": 2
}
