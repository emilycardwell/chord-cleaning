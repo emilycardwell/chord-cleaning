{
 "cells": [
  {
   "attachments": {},
   "cell_type": "markdown",
   "metadata": {},
   "source": [
    "# Visualization and Playback"
   ]
  },
  {
   "attachments": {},
   "cell_type": "markdown",
   "metadata": {},
   "source": [
    "### Imports"
   ]
  },
  {
   "cell_type": "code",
   "execution_count": 2,
   "metadata": {},
   "outputs": [
    {
     "ename": "ModuleNotFoundError",
     "evalue": "No module named 'fluidsynth'",
     "output_type": "error",
     "traceback": [
      "\u001b[0;31m---------------------------------------------------------------------------\u001b[0m",
      "\u001b[0;31mModuleNotFoundError\u001b[0m                       Traceback (most recent call last)",
      "Cell \u001b[0;32mIn[2], line 3\u001b[0m\n\u001b[1;32m      1\u001b[0m \u001b[39mimport\u001b[39;00m \u001b[39mmingus\u001b[39;00m\u001b[39m.\u001b[39;00m\u001b[39mcore\u001b[39;00m\u001b[39m.\u001b[39;00m\u001b[39mchords\u001b[39;00m \u001b[39mas\u001b[39;00m \u001b[39mchords\u001b[39;00m\n\u001b[1;32m      2\u001b[0m \u001b[39mimport\u001b[39;00m \u001b[39mmingus\u001b[39;00m\u001b[39m.\u001b[39;00m\u001b[39mcontainers\u001b[39;00m \u001b[39mas\u001b[39;00m \u001b[39mmc\u001b[39;00m\n\u001b[0;32m----> 3\u001b[0m \u001b[39mimport\u001b[39;00m \u001b[39mfluidsynth\u001b[39;00m\n\u001b[1;32m      4\u001b[0m \u001b[39mimport\u001b[39;00m \u001b[39mpandas\u001b[39;00m \u001b[39mas\u001b[39;00m \u001b[39mpd\u001b[39;00m\n",
      "\u001b[0;31mModuleNotFoundError\u001b[0m: No module named 'fluidsynth'"
     ]
    }
   ],
   "source": [
    "import mingus.core.chords as chords\n",
    "import mingus.containers as mc\n",
    "import fluidsynth\n",
    "import pandas as pd\n"
   ]
  },
  {
   "cell_type": "code",
   "execution_count": 7,
   "metadata": {},
   "outputs": [
    {
     "data": {
      "text/html": [
       "<div>\n",
       "<style scoped>\n",
       "    .dataframe tbody tr th:only-of-type {\n",
       "        vertical-align: middle;\n",
       "    }\n",
       "\n",
       "    .dataframe tbody tr th {\n",
       "        vertical-align: top;\n",
       "    }\n",
       "\n",
       "    .dataframe thead th {\n",
       "        text-align: right;\n",
       "    }\n",
       "</style>\n",
       "<table border=\"1\" class=\"dataframe\">\n",
       "  <thead>\n",
       "    <tr style=\"text-align: right;\">\n",
       "      <th></th>\n",
       "      <th>artist_name</th>\n",
       "      <th>song_name</th>\n",
       "      <th>chords</th>\n",
       "      <th>genres</th>\n",
       "      <th>popularity</th>\n",
       "    </tr>\n",
       "  </thead>\n",
       "  <tbody>\n",
       "    <tr>\n",
       "      <th>0</th>\n",
       "      <td>Justin Bieber</td>\n",
       "      <td>10,000 Hours</td>\n",
       "      <td>[G, G/B, C, G, G/B, C, G, Em, C, G, Em, C, G, ...</td>\n",
       "      <td>['canadian pop', 'pop', 'post-teen pop']</td>\n",
       "      <td>100</td>\n",
       "    </tr>\n",
       "    <tr>\n",
       "      <th>1</th>\n",
       "      <td>Justin Bieber</td>\n",
       "      <td>2 Much</td>\n",
       "      <td>[F#m7, D9, F#m7, D9, F#m7, D9, E, F#m7, A/C#, ...</td>\n",
       "      <td>['canadian pop', 'pop', 'post-teen pop']</td>\n",
       "      <td>100</td>\n",
       "    </tr>\n",
       "    <tr>\n",
       "      <th>2</th>\n",
       "      <td>Justin Bieber</td>\n",
       "      <td>2u (feat. David Guetta)</td>\n",
       "      <td>[Em, D, C, D, Em, D, C, D, Em, D, C, Am, D, Em...</td>\n",
       "      <td>['canadian pop', 'pop', 'post-teen pop']</td>\n",
       "      <td>100</td>\n",
       "    </tr>\n",
       "    <tr>\n",
       "      <th>3</th>\n",
       "      <td>Justin Bieber</td>\n",
       "      <td>All Around The World</td>\n",
       "      <td>[Em, Bm, Am, C, Em, Bm, Am, C, Em, Bm, Am, C, ...</td>\n",
       "      <td>['canadian pop', 'pop', 'post-teen pop']</td>\n",
       "      <td>100</td>\n",
       "    </tr>\n",
       "    <tr>\n",
       "      <th>4</th>\n",
       "      <td>Justin Bieber</td>\n",
       "      <td>All Around The World (acoustic)</td>\n",
       "      <td>[Gm, Dm, C, Gm, Dm, C, Gm, Dm, C, Gm, A#, Cdim...</td>\n",
       "      <td>['canadian pop', 'pop', 'post-teen pop']</td>\n",
       "      <td>100</td>\n",
       "    </tr>\n",
       "  </tbody>\n",
       "</table>\n",
       "</div>"
      ],
      "text/plain": [
       "     artist_name                        song_name   \n",
       "0  Justin Bieber                     10,000 Hours  \\\n",
       "1  Justin Bieber                           2 Much   \n",
       "2  Justin Bieber          2u (feat. David Guetta)   \n",
       "3  Justin Bieber             All Around The World   \n",
       "4  Justin Bieber  All Around The World (acoustic)   \n",
       "\n",
       "                                              chords   \n",
       "0  [G, G/B, C, G, G/B, C, G, Em, C, G, Em, C, G, ...  \\\n",
       "1  [F#m7, D9, F#m7, D9, F#m7, D9, E, F#m7, A/C#, ...   \n",
       "2  [Em, D, C, D, Em, D, C, D, Em, D, C, Am, D, Em...   \n",
       "3  [Em, Bm, Am, C, Em, Bm, Am, C, Em, Bm, Am, C, ...   \n",
       "4  [Gm, Dm, C, Gm, Dm, C, Gm, Dm, C, Gm, A#, Cdim...   \n",
       "\n",
       "                                     genres  popularity  \n",
       "0  ['canadian pop', 'pop', 'post-teen pop']         100  \n",
       "1  ['canadian pop', 'pop', 'post-teen pop']         100  \n",
       "2  ['canadian pop', 'pop', 'post-teen pop']         100  \n",
       "3  ['canadian pop', 'pop', 'post-teen pop']         100  \n",
       "4  ['canadian pop', 'pop', 'post-teen pop']         100  "
      ]
     },
     "execution_count": 7,
     "metadata": {},
     "output_type": "execute_result"
    }
   ],
   "source": [
    "# read from json\n",
    "filepath = 'data/cleaned_data.json'\n",
    "full_df = pd.read_json(filepath, orient='table')\n",
    "full_df.head()"
   ]
  },
  {
   "attachments": {},
   "cell_type": "markdown",
   "metadata": {},
   "source": [
    "## 1"
   ]
  },
  {
   "cell_type": "code",
   "execution_count": 2,
   "metadata": {},
   "outputs": [],
   "source": [
    "root = 'C'"
   ]
  },
  {
   "cell_type": "code",
   "execution_count": 3,
   "metadata": {},
   "outputs": [
    {
     "data": {
      "text/plain": [
       "['C', 'F', 'G']"
      ]
     },
     "execution_count": 3,
     "metadata": {},
     "output_type": "execute_result"
    }
   ],
   "source": [
    "# chords.major_triad(root)\n",
    "# chords.minor_triad(root)\n",
    "# chords.diminished_triad(root)\n",
    "# chords.augmented_triad(root)\n",
    "# chords.suspended_triad(root)"
   ]
  },
  {
   "cell_type": "code",
   "execution_count": 5,
   "metadata": {},
   "outputs": [
    {
     "data": {
      "text/plain": [
       "['C', 'Eb', 'G', 'Bb']"
      ]
     },
     "execution_count": 5,
     "metadata": {},
     "output_type": "execute_result"
    }
   ],
   "source": [
    "# chords.from_shorthand('Cm7')"
   ]
  },
  {
   "cell_type": "code",
   "execution_count": 30,
   "metadata": {},
   "outputs": [
    {
     "data": {
      "text/plain": [
       "[['G', 'B', 'D'],\n",
       " ['B', 'G', 'B', 'D'],\n",
       " ['C', 'E', 'G'],\n",
       " ['G', 'B', 'D'],\n",
       " ['G', 'B', 'D'],\n",
       " ['B', 'G', 'B', 'D'],\n",
       " ['C', 'E', 'G'],\n",
       " ['G', 'B', 'D'],\n",
       " ['G', 'B', 'D'],\n",
       " ['E', 'G', 'B']]"
      ]
     },
     "execution_count": 30,
     "metadata": {},
     "output_type": "execute_result"
    }
   ],
   "source": [
    "# chords_df = full_df['chords']\n",
    "\n",
    "# song1 = []\n",
    "# for ch in chords_df[0]:\n",
    "#     song1.append(chords.from_shorthand(ch))\n",
    "# song1[0:10]"
   ]
  },
  {
   "attachments": {},
   "cell_type": "markdown",
   "metadata": {},
   "source": [
    "## Fluidsynth"
   ]
  },
  {
   "cell_type": "code",
   "execution_count": 7,
   "metadata": {},
   "outputs": [
    {
     "ename": "AttributeError",
     "evalue": "module 'fluidsynth' has no attribute 'Synth'",
     "output_type": "error",
     "traceback": [
      "\u001b[0;31m---------------------------------------------------------------------------\u001b[0m",
      "\u001b[0;31mAttributeError\u001b[0m                            Traceback (most recent call last)",
      "Cell \u001b[0;32mIn[7], line 1\u001b[0m\n\u001b[0;32m----> 1\u001b[0m fs \u001b[39m=\u001b[39m fluidsynth\u001b[39m.\u001b[39;49mSynth()\n",
      "\u001b[0;31mAttributeError\u001b[0m: module 'fluidsynth' has no attribute 'Synth'"
     ]
    }
   ],
   "source": [
    "fs = fluidsynth.Synth()"
   ]
  },
  {
   "cell_type": "code",
   "execution_count": 6,
   "metadata": {},
   "outputs": [
    {
     "ename": "AttributeError",
     "evalue": "module 'fluidsynth' has no attribute 'Synth'",
     "output_type": "error",
     "traceback": [
      "\u001b[0;31m---------------------------------------------------------------------------\u001b[0m",
      "\u001b[0;31mAttributeError\u001b[0m                            Traceback (most recent call last)",
      "Cell \u001b[0;32mIn[6], line 1\u001b[0m\n\u001b[0;32m----> 1\u001b[0m fs \u001b[39m=\u001b[39m fluidsynth\u001b[39m.\u001b[39;49mSynth()\n\u001b[1;32m      2\u001b[0m fs\u001b[39m.\u001b[39mstart(driver\u001b[39m=\u001b[39m\u001b[39m'\u001b[39m\u001b[39mdsound\u001b[39m\u001b[39m'\u001b[39m)\n",
      "\u001b[0;31mAttributeError\u001b[0m: module 'fluidsynth' has no attribute 'Synth'"
     ]
    }
   ],
   "source": [
    "fs = fluidsynth.Synth()\n",
    "fs.start(driver='dsound')"
   ]
  },
  {
   "cell_type": "code",
   "execution_count": 20,
   "metadata": {},
   "outputs": [
    {
     "data": {
      "text/plain": [
       "['G', 'G/B', 'C', 'G', 'G/B', 'C', 'G', 'Em', 'C', 'G']"
      ]
     },
     "execution_count": 20,
     "metadata": {},
     "output_type": "execute_result"
    }
   ],
   "source": [
    "chords_df = full_df['chords']\n",
    "\n",
    "c = chords_df[0][0:10]\n",
    "c"
   ]
  },
  {
   "cell_type": "code",
   "execution_count": 21,
   "metadata": {},
   "outputs": [
    {
     "data": {
      "text/plain": [
       "[None, [[[0.0, 1, ['G-4', 'B-4', 'D-5']]], [[0.0, 1, ['B-4', 'G-5', 'B-5', 'D-6']]], [[0.0, 1, ['C-4', 'E-4', 'G-4']]], [[0.0, 1, ['G-4', 'B-4', 'D-5']]], [[0.0, 1, ['B-4', 'G-5', 'B-5', 'D-6']]], [[0.0, 1, ['C-4', 'E-4', 'G-4']]], [[0.0, 1, ['G-4', 'B-4', 'D-5']]], [[0.0, 1, ['E-4', 'G-4', 'B-4']]], [[0.0, 1, ['C-4', 'E-4', 'G-4']]], [[0.0, 1, ['G-4', 'B-4', 'D-5']]]]]"
      ]
     },
     "execution_count": 21,
     "metadata": {},
     "output_type": "execute_result"
    }
   ],
   "source": [
    "t = mc.Track().from_chords(c, 1)\n",
    "t"
   ]
  },
  {
   "cell_type": "code",
   "execution_count": 36,
   "metadata": {},
   "outputs": [
    {
     "name": "stderr",
     "output_type": "stream",
     "text": [
      "fluidsynth: error: There is no preset with bank number 0 and preset number 1 in SoundFont 1\n"
     ]
    }
   ],
   "source": [
    "fluidsynth.Syth"
   ]
  },
  {
   "cell_type": "code",
   "execution_count": 37,
   "metadata": {},
   "outputs": [
    {
     "ename": "KeyboardInterrupt",
     "evalue": "",
     "output_type": "error",
     "traceback": [
      "\u001b[0;31m---------------------------------------------------------------------------\u001b[0m",
      "\u001b[0;31mKeyboardInterrupt\u001b[0m                         Traceback (most recent call last)",
      "Cell \u001b[0;32mIn[37], line 1\u001b[0m\n\u001b[0;32m----> 1\u001b[0m fluidsynth\u001b[39m.\u001b[39;49mplay_Track(t, \u001b[39m1\u001b[39;49m, \u001b[39m120\u001b[39;49m)\n",
      "File \u001b[0;32m~/.pyenv/versions/3.10.6/envs/chord-cleaning/lib/python3.10/site-packages/mingus/midi/fluidsynth.py:190\u001b[0m, in \u001b[0;36mplay_Track\u001b[0;34m(track, channel, bpm)\u001b[0m\n\u001b[1;32m    188\u001b[0m \u001b[39mdef\u001b[39;00m \u001b[39mplay_Track\u001b[39m(track, channel\u001b[39m=\u001b[39m\u001b[39m1\u001b[39m, bpm\u001b[39m=\u001b[39m\u001b[39m120\u001b[39m):\n\u001b[1;32m    189\u001b[0m \u001b[39m    \u001b[39m\u001b[39m\"\"\"Use play_Bar to play a Track object.\"\"\"\u001b[39;00m\n\u001b[0;32m--> 190\u001b[0m     \u001b[39mreturn\u001b[39;00m midi\u001b[39m.\u001b[39;49mplay_Track(track, channel, bpm)\n",
      "File \u001b[0;32m~/.pyenv/versions/3.10.6/envs/chord-cleaning/lib/python3.10/site-packages/mingus/midi/sequencer.py:320\u001b[0m, in \u001b[0;36mSequencer.play_Track\u001b[0;34m(self, track, channel, bpm)\u001b[0m\n\u001b[1;32m    316\u001b[0m \u001b[39mself\u001b[39m\u001b[39m.\u001b[39mnotify_listeners(\n\u001b[1;32m    317\u001b[0m     \u001b[39mself\u001b[39m\u001b[39m.\u001b[39mMSG_PLAY_TRACK, {\u001b[39m\"\u001b[39m\u001b[39mtrack\u001b[39m\u001b[39m\"\u001b[39m: track, \u001b[39m\"\u001b[39m\u001b[39mchannel\u001b[39m\u001b[39m\"\u001b[39m: channel, \u001b[39m\"\u001b[39m\u001b[39mbpm\u001b[39m\u001b[39m\"\u001b[39m: bpm}\n\u001b[1;32m    318\u001b[0m )\n\u001b[1;32m    319\u001b[0m \u001b[39mfor\u001b[39;00m bar \u001b[39min\u001b[39;00m track:\n\u001b[0;32m--> 320\u001b[0m     res \u001b[39m=\u001b[39m \u001b[39mself\u001b[39;49m\u001b[39m.\u001b[39;49mplay_Bar(bar, channel, bpm)\n\u001b[1;32m    321\u001b[0m     \u001b[39mif\u001b[39;00m res \u001b[39m!=\u001b[39m {}:\n\u001b[1;32m    322\u001b[0m         bpm \u001b[39m=\u001b[39m res[\u001b[39m\"\u001b[39m\u001b[39mbpm\u001b[39m\u001b[39m\"\u001b[39m]\n",
      "File \u001b[0;32m~/.pyenv/versions/3.10.6/envs/chord-cleaning/lib/python3.10/site-packages/mingus/midi/sequencer.py:231\u001b[0m, in \u001b[0;36mSequencer.play_Bar\u001b[0;34m(self, bar, channel, bpm)\u001b[0m\n\u001b[1;32m    229\u001b[0m     qn_length \u001b[39m=\u001b[39m \u001b[39m60.0\u001b[39m \u001b[39m/\u001b[39m bpm\n\u001b[1;32m    230\u001b[0m ms \u001b[39m=\u001b[39m qn_length \u001b[39m*\u001b[39m (\u001b[39m4.0\u001b[39m \u001b[39m/\u001b[39m nc[\u001b[39m1\u001b[39m])\n\u001b[0;32m--> 231\u001b[0m \u001b[39mself\u001b[39;49m\u001b[39m.\u001b[39;49msleep(ms)\n\u001b[1;32m    232\u001b[0m \u001b[39mself\u001b[39m\u001b[39m.\u001b[39mnotify_listeners(\u001b[39mself\u001b[39m\u001b[39m.\u001b[39mMSG_SLEEP, {\u001b[39m\"\u001b[39m\u001b[39ms\u001b[39m\u001b[39m\"\u001b[39m: ms})\n\u001b[1;32m    233\u001b[0m \u001b[39mself\u001b[39m\u001b[39m.\u001b[39mstop_NoteContainer(nc[\u001b[39m2\u001b[39m], channel)\n",
      "File \u001b[0;32m~/.pyenv/versions/3.10.6/envs/chord-cleaning/lib/python3.10/site-packages/mingus/midi/fluidsynth.py:103\u001b[0m, in \u001b[0;36mFluidSynthSequencer.sleep\u001b[0;34m(self, seconds)\u001b[0m\n\u001b[1;32m    101\u001b[0m     \u001b[39mself\u001b[39m\u001b[39m.\u001b[39mwav\u001b[39m.\u001b[39mwriteframes(\u001b[39mbytes\u001b[39m(samples))\n\u001b[1;32m    102\u001b[0m \u001b[39melse\u001b[39;00m:\n\u001b[0;32m--> 103\u001b[0m     time\u001b[39m.\u001b[39;49msleep(seconds)\n",
      "\u001b[0;31mKeyboardInterrupt\u001b[0m: "
     ]
    }
   ],
   "source": [
    "fluidsynth.play_Track(t, 1, 120)"
   ]
  },
  {
   "cell_type": "code",
   "execution_count": null,
   "metadata": {},
   "outputs": [],
   "source": []
  }
 ],
 "metadata": {
  "kernelspec": {
   "display_name": "chord-cleaning",
   "language": "python",
   "name": "python3"
  },
  "language_info": {
   "codemirror_mode": {
    "name": "ipython",
    "version": 3
   },
   "file_extension": ".py",
   "mimetype": "text/x-python",
   "name": "python",
   "nbconvert_exporter": "python",
   "pygments_lexer": "ipython3",
   "version": "3.10.6"
  },
  "orig_nbformat": 4
 },
 "nbformat": 4,
 "nbformat_minor": 2
}
