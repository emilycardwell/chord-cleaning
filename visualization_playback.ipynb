{
 "cells": [
  {
   "attachments": {},
   "cell_type": "markdown",
   "metadata": {},
   "source": [
    "# Visualization and Playback"
   ]
  },
  {
   "attachments": {},
   "cell_type": "markdown",
   "metadata": {},
   "source": [
    "### Imports"
   ]
  },
  {
   "cell_type": "code",
   "execution_count": 4,
   "metadata": {},
   "outputs": [],
   "source": [
    "import mingus.core.chords as chords\n",
    "from mingus.midi import pyfluidsynth\n",
    "import pandas as pd\n"
   ]
  },
  {
   "cell_type": "code",
   "execution_count": 5,
   "metadata": {},
   "outputs": [
    {
     "data": {
      "text/html": [
       "<div>\n",
       "<style scoped>\n",
       "    .dataframe tbody tr th:only-of-type {\n",
       "        vertical-align: middle;\n",
       "    }\n",
       "\n",
       "    .dataframe tbody tr th {\n",
       "        vertical-align: top;\n",
       "    }\n",
       "\n",
       "    .dataframe thead th {\n",
       "        text-align: right;\n",
       "    }\n",
       "</style>\n",
       "<table border=\"1\" class=\"dataframe\">\n",
       "  <thead>\n",
       "    <tr style=\"text-align: right;\">\n",
       "      <th></th>\n",
       "      <th>artist_name</th>\n",
       "      <th>song_name</th>\n",
       "      <th>chords</th>\n",
       "      <th>genres</th>\n",
       "      <th>popularity</th>\n",
       "    </tr>\n",
       "  </thead>\n",
       "  <tbody>\n",
       "    <tr>\n",
       "      <th>0</th>\n",
       "      <td>Justin Bieber</td>\n",
       "      <td>10,000 Hours</td>\n",
       "      <td>[G, G/B, C, G, G, G/B, C, G, G, Em, C, G, G, E...</td>\n",
       "      <td>['canadian pop', 'pop', 'post-teen pop']</td>\n",
       "      <td>100</td>\n",
       "    </tr>\n",
       "    <tr>\n",
       "      <th>1</th>\n",
       "      <td>Justin Bieber</td>\n",
       "      <td>2 Much</td>\n",
       "      <td>[F#m7, D9, F#m7, D9, F#m7, D9, E, F#m7, A/C#, ...</td>\n",
       "      <td>['canadian pop', 'pop', 'post-teen pop']</td>\n",
       "      <td>100</td>\n",
       "    </tr>\n",
       "    <tr>\n",
       "      <th>2</th>\n",
       "      <td>Justin Bieber</td>\n",
       "      <td>2u (feat. David Guetta)</td>\n",
       "      <td>[Em, D, C, C, D, Em, Em, D, C, C, D, Em, Em, D...</td>\n",
       "      <td>['canadian pop', 'pop', 'post-teen pop']</td>\n",
       "      <td>100</td>\n",
       "    </tr>\n",
       "    <tr>\n",
       "      <th>3</th>\n",
       "      <td>Justin Bieber</td>\n",
       "      <td>All Around The World</td>\n",
       "      <td>[Em, Bm, Am, C, Em, Bm, Am, C, Em, Bm, Am, C, ...</td>\n",
       "      <td>['canadian pop', 'pop', 'post-teen pop']</td>\n",
       "      <td>100</td>\n",
       "    </tr>\n",
       "    <tr>\n",
       "      <th>4</th>\n",
       "      <td>Justin Bieber</td>\n",
       "      <td>All Around The World (acoustic)</td>\n",
       "      <td>[Gm, Dm, C, C, Gm, Dm, C, C, Gm, Dm, C, C, Gm,...</td>\n",
       "      <td>['canadian pop', 'pop', 'post-teen pop']</td>\n",
       "      <td>100</td>\n",
       "    </tr>\n",
       "  </tbody>\n",
       "</table>\n",
       "</div>"
      ],
      "text/plain": [
       "     artist_name                        song_name   \n",
       "0  Justin Bieber                     10,000 Hours  \\\n",
       "1  Justin Bieber                           2 Much   \n",
       "2  Justin Bieber          2u (feat. David Guetta)   \n",
       "3  Justin Bieber             All Around The World   \n",
       "4  Justin Bieber  All Around The World (acoustic)   \n",
       "\n",
       "                                              chords   \n",
       "0  [G, G/B, C, G, G, G/B, C, G, G, Em, C, G, G, E...  \\\n",
       "1  [F#m7, D9, F#m7, D9, F#m7, D9, E, F#m7, A/C#, ...   \n",
       "2  [Em, D, C, C, D, Em, Em, D, C, C, D, Em, Em, D...   \n",
       "3  [Em, Bm, Am, C, Em, Bm, Am, C, Em, Bm, Am, C, ...   \n",
       "4  [Gm, Dm, C, C, Gm, Dm, C, C, Gm, Dm, C, C, Gm,...   \n",
       "\n",
       "                                     genres  popularity  \n",
       "0  ['canadian pop', 'pop', 'post-teen pop']         100  \n",
       "1  ['canadian pop', 'pop', 'post-teen pop']         100  \n",
       "2  ['canadian pop', 'pop', 'post-teen pop']         100  \n",
       "3  ['canadian pop', 'pop', 'post-teen pop']         100  \n",
       "4  ['canadian pop', 'pop', 'post-teen pop']         100  "
      ]
     },
     "execution_count": 5,
     "metadata": {},
     "output_type": "execute_result"
    }
   ],
   "source": [
    "# read from json\n",
    "filepath = 'data/cleaned_data.json'\n",
    "full_df = pd.read_json(filepath, orient='table')\n",
    "full_df.head()"
   ]
  },
  {
   "attachments": {},
   "cell_type": "markdown",
   "metadata": {},
   "source": [
    "## Testing Mingus"
   ]
  },
  {
   "cell_type": "code",
   "execution_count": 2,
   "metadata": {},
   "outputs": [],
   "source": [
    "root = 'C'"
   ]
  },
  {
   "cell_type": "code",
   "execution_count": 3,
   "metadata": {},
   "outputs": [
    {
     "data": {
      "text/plain": [
       "['C', 'F', 'G']"
      ]
     },
     "execution_count": 3,
     "metadata": {},
     "output_type": "execute_result"
    }
   ],
   "source": [
    "chords.major_triad(root)\n",
    "chords.minor_triad(root)\n",
    "chords.diminished_triad(root)\n",
    "chords.augmented_triad(root)\n",
    "chords.suspended_triad(root)"
   ]
  },
  {
   "cell_type": "code",
   "execution_count": 5,
   "metadata": {},
   "outputs": [
    {
     "data": {
      "text/plain": [
       "['C', 'Eb', 'G', 'Bb']"
      ]
     },
     "execution_count": 5,
     "metadata": {},
     "output_type": "execute_result"
    }
   ],
   "source": [
    "chords.from_shorthand('Cm7')"
   ]
  },
  {
   "cell_type": "code",
   "execution_count": 9,
   "metadata": {},
   "outputs": [
    {
     "name": "stdout",
     "output_type": "stream",
     "text": [
      "['G', 'B', 'D']\n",
      "['B', 'G', 'B', 'D']\n",
      "['C', 'E', 'G']\n",
      "['G', 'B', 'D']\n",
      "['G', 'B', 'D']\n",
      "['B', 'G', 'B', 'D']\n",
      "['C', 'E', 'G']\n",
      "['G', 'B', 'D']\n",
      "['G', 'B', 'D']\n",
      "['E', 'G', 'B']\n",
      "['C', 'E', 'G']\n",
      "['G', 'B', 'D']\n",
      "['G', 'B', 'D']\n",
      "['E', 'G', 'B']\n",
      "['C', 'E', 'G']\n",
      "['G', 'B', 'D']\n",
      "['G', 'B', 'D']\n",
      "['E', 'G', 'B']\n",
      "['C', 'E', 'G']\n",
      "['G', 'B', 'D']\n",
      "['G', 'B', 'D']\n",
      "['E', 'G', 'B']\n",
      "['C', 'E', 'G']\n",
      "['G', 'B', 'D']\n",
      "['G', 'B', 'D']\n",
      "['E', 'G', 'B']\n",
      "['C', 'E', 'G']\n",
      "['G', 'B', 'D']\n",
      "['G', 'B', 'D']\n",
      "['E', 'G', 'B']\n",
      "['C', 'E', 'G']\n",
      "['G', 'B', 'D']\n",
      "['G', 'B', 'D']\n",
      "['E', 'G', 'B']\n",
      "['C', 'E', 'G']\n",
      "['G', 'B', 'D']\n",
      "['G', 'B', 'D']\n",
      "['B', 'G', 'B', 'D']\n",
      "['C', 'E', 'G']\n",
      "['G', 'B', 'D']\n",
      "['G', 'B', 'D']\n",
      "['B', 'G', 'B', 'D']\n",
      "['C', 'E', 'G']\n",
      "['G', 'B', 'D']\n",
      "['G', 'B', 'D']\n",
      "['E', 'G', 'B']\n",
      "['C', 'E', 'G']\n",
      "['G', 'B', 'D']\n",
      "['G', 'B', 'D']\n",
      "['E', 'G', 'B']\n",
      "['C', 'E', 'G']\n",
      "['G', 'B', 'D']\n",
      "['G', 'B', 'D']\n",
      "['E', 'G', 'B']\n",
      "['C', 'E', 'G']\n",
      "['G', 'B', 'D']\n",
      "['G', 'B', 'D']\n",
      "['E', 'G', 'B']\n",
      "['C', 'E', 'G']\n",
      "['G', 'B', 'D']\n",
      "['G', 'B', 'D']\n",
      "['E', 'G', 'B']\n",
      "['C', 'E', 'G']\n",
      "['G', 'B', 'D']\n",
      "['G', 'B', 'D']\n",
      "['E', 'G', 'B']\n",
      "['C', 'E', 'G']\n",
      "['G', 'B', 'D']\n",
      "['G', 'B', 'D']\n",
      "['E', 'G', 'B']\n",
      "['C', 'E', 'G']\n",
      "['G', 'B', 'D']\n",
      "['G', 'B', 'D']\n",
      "['E', 'G', 'B']\n",
      "['C', 'E', 'G']\n",
      "['G', 'B', 'D']\n",
      "['B', 'D', 'F#']\n",
      "['C', 'E', 'G']\n",
      "['B', 'D', 'F#']\n",
      "['C', 'E', 'G']\n",
      "['G', 'B', 'D']\n",
      "['E', 'G', 'B']\n",
      "['C', 'E', 'G']\n",
      "['G', 'B', 'D']\n",
      "['G', 'B', 'D']\n",
      "['E', 'G', 'B']\n",
      "['C', 'E', 'G']\n",
      "['G', 'B', 'D']\n",
      "['G', 'B', 'D']\n",
      "['E', 'G', 'B']\n",
      "['C', 'E', 'G']\n",
      "['G', 'B', 'D']\n",
      "['G', 'B', 'D']\n",
      "['E', 'G', 'B']\n",
      "['C', 'E', 'G']\n",
      "['G', 'B', 'D']\n",
      "['G', 'B', 'D']\n",
      "['E', 'G', 'B']\n",
      "['C', 'E', 'G']\n",
      "['G', 'B', 'D']\n",
      "['G', 'B', 'D']\n",
      "['E', 'G', 'B']\n",
      "['C', 'E', 'G']\n",
      "['G', 'B', 'D']\n",
      "['G', 'B', 'D']\n",
      "['E', 'G', 'B']\n",
      "['C', 'E', 'G']\n",
      "['C', 'E', 'G']\n",
      "['G', 'B', 'D']\n",
      "['G', 'B', 'D']\n",
      "['G', 'B', 'D']\n",
      "['E', 'G', 'B']\n",
      "['C', 'E', 'G']\n",
      "['G', 'B', 'D']\n"
     ]
    }
   ],
   "source": [
    "chords_df = full_df['chords']\n",
    "for ch in chords_df[0]:\n",
    "    print(chords.from_shorthand(ch))"
   ]
  },
  {
   "attachments": {},
   "cell_type": "markdown",
   "metadata": {},
   "source": [
    "## Fluidsynth"
   ]
  },
  {
   "cell_type": "code",
   "execution_count": 3,
   "metadata": {},
   "outputs": [
    {
     "name": "stderr",
     "output_type": "stream",
     "text": [
      "fluidsynth: error: fluid_sfloader_load(): Failed to open 'soundfont.SF2': File does not exist.\n",
      "fluidsynth: error: Unable to open file 'soundfont.SF2'\n",
      "fluidsynth: error: Failed to load SoundFont \"soundfont.SF2\"\n"
     ]
    },
    {
     "data": {
      "text/plain": [
       "False"
      ]
     },
     "execution_count": 3,
     "metadata": {},
     "output_type": "execute_result"
    }
   ],
   "source": [
    "fluidsynth.init(\"soundfont.SF2\")"
   ]
  },
  {
   "cell_type": "code",
   "execution_count": null,
   "metadata": {},
   "outputs": [],
   "source": []
  }
 ],
 "metadata": {
  "kernelspec": {
   "display_name": "chord-cleaning",
   "language": "python",
   "name": "python3"
  },
  "language_info": {
   "codemirror_mode": {
    "name": "ipython",
    "version": 3
   },
   "file_extension": ".py",
   "mimetype": "text/x-python",
   "name": "python",
   "nbconvert_exporter": "python",
   "pygments_lexer": "ipython3",
   "version": "3.10.6"
  },
  "orig_nbformat": 4
 },
 "nbformat": 4,
 "nbformat_minor": 2
}
