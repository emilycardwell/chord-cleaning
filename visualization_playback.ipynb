{
 "cells": [
  {
   "attachments": {},
   "cell_type": "markdown",
   "metadata": {},
   "source": [
    "# Visualization and Playback"
   ]
  },
  {
   "attachments": {},
   "cell_type": "markdown",
   "metadata": {},
   "source": [
    "### Imports"
   ]
  },
  {
   "cell_type": "code",
   "execution_count": 1,
   "metadata": {},
   "outputs": [],
   "source": [
    "import mingus.core.chords as chords\n",
    "import mingus.containers as mc\n",
    "from mingus.midi import midi_file_out\n",
    "import fluidsynth\n",
    "import pandas as pd\n",
    "import time\n",
    "import os"
   ]
  },
  {
   "cell_type": "code",
   "execution_count": 2,
   "metadata": {},
   "outputs": [
    {
     "data": {
      "text/html": [
       "<div>\n",
       "<style scoped>\n",
       "    .dataframe tbody tr th:only-of-type {\n",
       "        vertical-align: middle;\n",
       "    }\n",
       "\n",
       "    .dataframe tbody tr th {\n",
       "        vertical-align: top;\n",
       "    }\n",
       "\n",
       "    .dataframe thead th {\n",
       "        text-align: right;\n",
       "    }\n",
       "</style>\n",
       "<table border=\"1\" class=\"dataframe\">\n",
       "  <thead>\n",
       "    <tr style=\"text-align: right;\">\n",
       "      <th></th>\n",
       "      <th>artist_name</th>\n",
       "      <th>song_name</th>\n",
       "      <th>chords</th>\n",
       "      <th>genres</th>\n",
       "      <th>popularity</th>\n",
       "    </tr>\n",
       "  </thead>\n",
       "  <tbody>\n",
       "    <tr>\n",
       "      <th>0</th>\n",
       "      <td>Justin Bieber</td>\n",
       "      <td>10,000 Hours</td>\n",
       "      <td>[G, G/B, C, G, G/B, C, G, Em, C, G, Em, C, G, ...</td>\n",
       "      <td>['canadian pop', 'pop', 'post-teen pop']</td>\n",
       "      <td>100</td>\n",
       "    </tr>\n",
       "    <tr>\n",
       "      <th>1</th>\n",
       "      <td>Justin Bieber</td>\n",
       "      <td>2 Much</td>\n",
       "      <td>[F#m7, D9, F#m7, D9, F#m7, D9, E, F#m7, A/C#, ...</td>\n",
       "      <td>['canadian pop', 'pop', 'post-teen pop']</td>\n",
       "      <td>100</td>\n",
       "    </tr>\n",
       "    <tr>\n",
       "      <th>2</th>\n",
       "      <td>Justin Bieber</td>\n",
       "      <td>2u (feat. David Guetta)</td>\n",
       "      <td>[Em, D, C, D, Em, D, C, D, Em, D, C, Am, D, Em...</td>\n",
       "      <td>['canadian pop', 'pop', 'post-teen pop']</td>\n",
       "      <td>100</td>\n",
       "    </tr>\n",
       "    <tr>\n",
       "      <th>3</th>\n",
       "      <td>Justin Bieber</td>\n",
       "      <td>All Around The World</td>\n",
       "      <td>[Em, Bm, Am, C, Em, Bm, Am, C, Em, Bm, Am, C, ...</td>\n",
       "      <td>['canadian pop', 'pop', 'post-teen pop']</td>\n",
       "      <td>100</td>\n",
       "    </tr>\n",
       "    <tr>\n",
       "      <th>4</th>\n",
       "      <td>Justin Bieber</td>\n",
       "      <td>All Around The World (acoustic)</td>\n",
       "      <td>[Gm, Dm, C, Gm, Dm, C, Gm, Dm, C, Gm, A#, Cdim...</td>\n",
       "      <td>['canadian pop', 'pop', 'post-teen pop']</td>\n",
       "      <td>100</td>\n",
       "    </tr>\n",
       "  </tbody>\n",
       "</table>\n",
       "</div>"
      ],
      "text/plain": [
       "     artist_name                        song_name   \n",
       "0  Justin Bieber                     10,000 Hours  \\\n",
       "1  Justin Bieber                           2 Much   \n",
       "2  Justin Bieber          2u (feat. David Guetta)   \n",
       "3  Justin Bieber             All Around The World   \n",
       "4  Justin Bieber  All Around The World (acoustic)   \n",
       "\n",
       "                                              chords   \n",
       "0  [G, G/B, C, G, G/B, C, G, Em, C, G, Em, C, G, ...  \\\n",
       "1  [F#m7, D9, F#m7, D9, F#m7, D9, E, F#m7, A/C#, ...   \n",
       "2  [Em, D, C, D, Em, D, C, D, Em, D, C, Am, D, Em...   \n",
       "3  [Em, Bm, Am, C, Em, Bm, Am, C, Em, Bm, Am, C, ...   \n",
       "4  [Gm, Dm, C, Gm, Dm, C, Gm, Dm, C, Gm, A#, Cdim...   \n",
       "\n",
       "                                     genres  popularity  \n",
       "0  ['canadian pop', 'pop', 'post-teen pop']         100  \n",
       "1  ['canadian pop', 'pop', 'post-teen pop']         100  \n",
       "2  ['canadian pop', 'pop', 'post-teen pop']         100  \n",
       "3  ['canadian pop', 'pop', 'post-teen pop']         100  \n",
       "4  ['canadian pop', 'pop', 'post-teen pop']         100  "
      ]
     },
     "execution_count": 2,
     "metadata": {},
     "output_type": "execute_result"
    }
   ],
   "source": [
    "# read from json\n",
    "filepath = 'data/chords/cleaned_data.json'\n",
    "full_df = pd.read_json(filepath, orient='table')\n",
    "full_df.head()"
   ]
  },
  {
   "attachments": {},
   "cell_type": "markdown",
   "metadata": {},
   "source": [
    "## Experimenting with mingus"
   ]
  },
  {
   "cell_type": "code",
   "execution_count": 2,
   "metadata": {},
   "outputs": [],
   "source": [
    "root = 'C'"
   ]
  },
  {
   "cell_type": "code",
   "execution_count": 3,
   "metadata": {},
   "outputs": [
    {
     "data": {
      "text/plain": [
       "['C', 'F', 'G']"
      ]
     },
     "execution_count": 3,
     "metadata": {},
     "output_type": "execute_result"
    }
   ],
   "source": [
    "# chords.major_triad(root)\n",
    "# chords.minor_triad(root)\n",
    "# chords.diminished_triad(root)\n",
    "# chords.augmented_triad(root)\n",
    "# chords.suspended_triad(root)"
   ]
  },
  {
   "cell_type": "code",
   "execution_count": 5,
   "metadata": {},
   "outputs": [
    {
     "data": {
      "text/plain": [
       "['C', 'Eb', 'G', 'Bb']"
      ]
     },
     "execution_count": 5,
     "metadata": {},
     "output_type": "execute_result"
    }
   ],
   "source": [
    "# chords.from_shorthand('Cm7')"
   ]
  },
  {
   "cell_type": "code",
   "execution_count": 30,
   "metadata": {},
   "outputs": [
    {
     "data": {
      "text/plain": [
       "[['G', 'B', 'D'],\n",
       " ['B', 'G', 'B', 'D'],\n",
       " ['C', 'E', 'G'],\n",
       " ['G', 'B', 'D'],\n",
       " ['G', 'B', 'D'],\n",
       " ['B', 'G', 'B', 'D'],\n",
       " ['C', 'E', 'G'],\n",
       " ['G', 'B', 'D'],\n",
       " ['G', 'B', 'D'],\n",
       " ['E', 'G', 'B']]"
      ]
     },
     "execution_count": 30,
     "metadata": {},
     "output_type": "execute_result"
    }
   ],
   "source": [
    "# chords_df = full_df['chords']\n",
    "\n",
    "# song1 = []\n",
    "# for ch in chords_df[0]:\n",
    "#     song1.append(chords.from_shorthand(ch))\n",
    "# song1[0:10]"
   ]
  },
  {
   "attachments": {},
   "cell_type": "markdown",
   "metadata": {},
   "source": [
    "## Fluidsynth"
   ]
  },
  {
   "cell_type": "code",
   "execution_count": 3,
   "metadata": {},
   "outputs": [],
   "source": [
    "sound1 = \"soundfont_lib/Discarded_Wurlitzer_piano.sf2\"\n",
    "sound2 = \"soundfont_lib/YDP-GrandPiano-20160804.sf2\""
   ]
  },
  {
   "cell_type": "code",
   "execution_count": 4,
   "metadata": {},
   "outputs": [],
   "source": [
    "fs = fluidsynth.Synth()\n",
    "fs.start()\n",
    "\n",
    "sfid = fs.sfload(sound2)\n",
    "fs.program_select(0, sfid, 0, 0)\n",
    "\n",
    "fs.noteon(0, 60, 30)\n",
    "fs.noteon(0, 67, 30)\n",
    "fs.noteon(0, 76, 30)\n",
    "\n",
    "time.sleep(1.0)\n",
    "\n",
    "fs.noteoff(0, 60)\n",
    "fs.noteoff(0, 67)\n",
    "fs.noteoff(0, 76)\n",
    "\n",
    "time.sleep(1.0)\n",
    "\n",
    "fs.delete()"
   ]
  },
  {
   "attachments": {},
   "cell_type": "markdown",
   "metadata": {},
   "source": [
    "## Playing Prog"
   ]
  },
  {
   "cell_type": "code",
   "execution_count": 5,
   "metadata": {},
   "outputs": [
    {
     "data": {
      "text/plain": [
       "['G', 'G/B', 'C', 'G', 'G/B', 'C', 'G', 'Em', 'C', 'G']"
      ]
     },
     "execution_count": 5,
     "metadata": {},
     "output_type": "execute_result"
    }
   ],
   "source": [
    "chords_df = full_df['chords']\n",
    "\n",
    "c = chords_df[0][0:10]\n",
    "c"
   ]
  },
  {
   "cell_type": "code",
   "execution_count": 6,
   "metadata": {},
   "outputs": [
    {
     "data": {
      "text/plain": [
       "[None, [[[0.0, 1, ['G-4', 'B-4', 'D-5']]], [[0.0, 1, ['B-4', 'G-5', 'B-5', 'D-6']]], [[0.0, 1, ['C-4', 'E-4', 'G-4']]], [[0.0, 1, ['G-4', 'B-4', 'D-5']]], [[0.0, 1, ['B-4', 'G-5', 'B-5', 'D-6']]], [[0.0, 1, ['C-4', 'E-4', 'G-4']]], [[0.0, 1, ['G-4', 'B-4', 'D-5']]], [[0.0, 1, ['E-4', 'G-4', 'B-4']]], [[0.0, 1, ['C-4', 'E-4', 'G-4']]], [[0.0, 1, ['G-4', 'B-4', 'D-5']]]]]"
      ]
     },
     "execution_count": 6,
     "metadata": {},
     "output_type": "execute_result"
    }
   ],
   "source": [
    "t = mc.Track().from_chords(c, 1)\n",
    "t"
   ]
  },
  {
   "cell_type": "code",
   "execution_count": 19,
   "metadata": {},
   "outputs": [],
   "source": [
    "# midi_files = os.listdir(\"data/midi\")\n",
    "# if midi_files == []:\n",
    "#     version = 1\n",
    "# else:\n",
    "#     version = int(midi_files[-1][-1]) + 1\n",
    "# version\n",
    "version = 1"
   ]
  },
  {
   "cell_type": "code",
   "execution_count": 23,
   "metadata": {},
   "outputs": [
    {
     "data": {
      "text/plain": [
       "True"
      ]
     },
     "execution_count": 23,
     "metadata": {},
     "output_type": "execute_result"
    }
   ],
   "source": [
    "midi_file_out.write_Track(f'data/midi/midi_{version}.mid', t)"
   ]
  },
  {
   "cell_type": "code",
   "execution_count": 25,
   "metadata": {},
   "outputs": [
    {
     "data": {
      "text/plain": [
       "'midi_1.mid'"
      ]
     },
     "execution_count": 25,
     "metadata": {},
     "output_type": "execute_result"
    }
   ],
   "source": [
    "midipath = os.listdir(\"data/midi/\")[-1]\n",
    "midipath"
   ]
  },
  {
   "cell_type": "code",
   "execution_count": 28,
   "metadata": {},
   "outputs": [
    {
     "data": {
      "text/plain": [
       "0"
      ]
     },
     "execution_count": 28,
     "metadata": {},
     "output_type": "execute_result"
    },
    {
     "name": "stderr",
     "output_type": "stream",
     "text": [
      "fluidsynth: error: Couldn't open the MIDI file\n"
     ]
    }
   ],
   "source": [
    "fs = fluidsynth.Synth()\n",
    "fs.start()\n",
    "\n",
    "sfid = fs.sfload(sound2)\n",
    "fs.program_select(0, sfid, 0, 0)\n",
    "\n",
    "fs.play_midi_file(midipath)"
   ]
  },
  {
   "cell_type": "code",
   "execution_count": null,
   "metadata": {},
   "outputs": [],
   "source": []
  }
 ],
 "metadata": {
  "kernelspec": {
   "display_name": "chord-cleaning",
   "language": "python",
   "name": "python3"
  },
  "language_info": {
   "codemirror_mode": {
    "name": "ipython",
    "version": 3
   },
   "file_extension": ".py",
   "mimetype": "text/x-python",
   "name": "python",
   "nbconvert_exporter": "python",
   "pygments_lexer": "ipython3",
   "version": "3.10.6"
  },
  "orig_nbformat": 4
 },
 "nbformat": 4,
 "nbformat_minor": 2
}
