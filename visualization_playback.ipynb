{
 "cells": [
  {
   "attachments": {},
   "cell_type": "markdown",
   "metadata": {},
   "source": [
    "# Visualization and Playback"
   ]
  },
  {
   "attachments": {},
   "cell_type": "markdown",
   "metadata": {},
   "source": [
    "### Imports"
   ]
  },
  {
   "cell_type": "code",
   "execution_count": 10,
   "metadata": {},
   "outputs": [
    {
     "ename": "ImportError",
     "evalue": "Couldn't find the FluidSynth library.",
     "output_type": "error",
     "traceback": [
      "\u001b[0;31m---------------------------------------------------------------------------\u001b[0m",
      "\u001b[0;31mImportError\u001b[0m                               Traceback (most recent call last)",
      "Cell \u001b[0;32mIn[10], line 2\u001b[0m\n\u001b[1;32m      1\u001b[0m \u001b[39mimport\u001b[39;00m \u001b[39mmingus\u001b[39;00m\u001b[39m.\u001b[39;00m\u001b[39mcore\u001b[39;00m\u001b[39m.\u001b[39;00m\u001b[39mchords\u001b[39;00m \u001b[39mas\u001b[39;00m \u001b[39mchords\u001b[39;00m\n\u001b[0;32m----> 2\u001b[0m \u001b[39mfrom\u001b[39;00m \u001b[39mmingus\u001b[39;00m\u001b[39m.\u001b[39;00m\u001b[39mmidi\u001b[39;00m \u001b[39mimport\u001b[39;00m fluidsynth\n\u001b[1;32m      3\u001b[0m \u001b[39mimport\u001b[39;00m \u001b[39mpandas\u001b[39;00m \u001b[39mas\u001b[39;00m \u001b[39mpd\u001b[39;00m\n\u001b[1;32m      4\u001b[0m \u001b[39mimport\u001b[39;00m \u001b[39mjson\u001b[39;00m\n",
      "File \u001b[0;32m~/.pyenv/versions/3.10.6/envs/chord-cleaning/lib/python3.10/site-packages/mingus/midi/fluidsynth.py:41\u001b[0m\n\u001b[1;32m     38\u001b[0m \u001b[39mimport\u001b[39;00m \u001b[39mtime\u001b[39;00m\n\u001b[1;32m     39\u001b[0m \u001b[39mimport\u001b[39;00m \u001b[39mwave\u001b[39;00m\n\u001b[0;32m---> 41\u001b[0m \u001b[39mfrom\u001b[39;00m \u001b[39mmingus\u001b[39;00m\u001b[39m.\u001b[39;00m\u001b[39mmidi\u001b[39;00m \u001b[39mimport\u001b[39;00m pyfluidsynth \u001b[39mas\u001b[39;00m fs\n\u001b[1;32m     42\u001b[0m \u001b[39mfrom\u001b[39;00m \u001b[39mmingus\u001b[39;00m\u001b[39m.\u001b[39;00m\u001b[39mmidi\u001b[39;00m\u001b[39m.\u001b[39;00m\u001b[39msequencer\u001b[39;00m \u001b[39mimport\u001b[39;00m Sequencer\n\u001b[1;32m     45\u001b[0m \u001b[39mclass\u001b[39;00m \u001b[39mFluidSynthSequencer\u001b[39;00m(Sequencer):\n",
      "File \u001b[0;32m~/.pyenv/versions/3.10.6/envs/chord-cleaning/lib/python3.10/site-packages/mingus/midi/pyfluidsynth.py:41\u001b[0m\n\u001b[1;32m     35\u001b[0m lib \u001b[39m=\u001b[39m (\n\u001b[1;32m     36\u001b[0m     find_library(\u001b[39m\"\u001b[39m\u001b[39mfluidsynth\u001b[39m\u001b[39m\"\u001b[39m)\n\u001b[1;32m     37\u001b[0m     \u001b[39mor\u001b[39;00m find_library(\u001b[39m\"\u001b[39m\u001b[39mlibfluidsynth\u001b[39m\u001b[39m\"\u001b[39m)\n\u001b[1;32m     38\u001b[0m     \u001b[39mor\u001b[39;00m find_library(\u001b[39m\"\u001b[39m\u001b[39mlibfluidsynth-1\u001b[39m\u001b[39m\"\u001b[39m)\n\u001b[1;32m     39\u001b[0m )\n\u001b[1;32m     40\u001b[0m \u001b[39mif\u001b[39;00m lib \u001b[39mis\u001b[39;00m \u001b[39mNone\u001b[39;00m:\n\u001b[0;32m---> 41\u001b[0m     \u001b[39mraise\u001b[39;00m \u001b[39mImportError\u001b[39;00m(\u001b[39m\"\u001b[39m\u001b[39mCouldn\u001b[39m\u001b[39m'\u001b[39m\u001b[39mt find the FluidSynth library.\u001b[39m\u001b[39m\"\u001b[39m)\n\u001b[1;32m     43\u001b[0m _fl \u001b[39m=\u001b[39m CDLL(lib)\n\u001b[1;32m     46\u001b[0m \u001b[39mdef\u001b[39;00m \u001b[39mcfunc\u001b[39m(name, result, \u001b[39m*\u001b[39margs):\n",
      "\u001b[0;31mImportError\u001b[0m: Couldn't find the FluidSynth library."
     ]
    }
   ],
   "source": [
    "import mingus.core.chords as chords\n",
    "from mingus.midi import fluidsynth\n",
    "import pandas as pd\n"
   ]
  },
  {
   "cell_type": "code",
   "execution_count": 7,
   "metadata": {},
   "outputs": [
    {
     "data": {
      "text/html": [
       "<div>\n",
       "<style scoped>\n",
       "    .dataframe tbody tr th:only-of-type {\n",
       "        vertical-align: middle;\n",
       "    }\n",
       "\n",
       "    .dataframe tbody tr th {\n",
       "        vertical-align: top;\n",
       "    }\n",
       "\n",
       "    .dataframe thead th {\n",
       "        text-align: right;\n",
       "    }\n",
       "</style>\n",
       "<table border=\"1\" class=\"dataframe\">\n",
       "  <thead>\n",
       "    <tr style=\"text-align: right;\">\n",
       "      <th></th>\n",
       "      <th>artist_name</th>\n",
       "      <th>song_name</th>\n",
       "      <th>chords</th>\n",
       "      <th>genres</th>\n",
       "      <th>popularity</th>\n",
       "    </tr>\n",
       "  </thead>\n",
       "  <tbody>\n",
       "    <tr>\n",
       "      <th>0</th>\n",
       "      <td>Justin Bieber</td>\n",
       "      <td>10,000 Hours</td>\n",
       "      <td>[G, G/B, C, G, G, G/B, C, G, G, Em, C, G, G, E...</td>\n",
       "      <td>['canadian pop', 'pop', 'post-teen pop']</td>\n",
       "      <td>100</td>\n",
       "    </tr>\n",
       "    <tr>\n",
       "      <th>1</th>\n",
       "      <td>Justin Bieber</td>\n",
       "      <td>2 Much</td>\n",
       "      <td>[F#m7, D9, F#m7, D9, F#m7, D9, E, F#m7, A/C#, ...</td>\n",
       "      <td>['canadian pop', 'pop', 'post-teen pop']</td>\n",
       "      <td>100</td>\n",
       "    </tr>\n",
       "    <tr>\n",
       "      <th>2</th>\n",
       "      <td>Justin Bieber</td>\n",
       "      <td>2u (feat. David Guetta)</td>\n",
       "      <td>[Em, D, C, C, D, Em, Em, D, C, C, D, Em, Em, D...</td>\n",
       "      <td>['canadian pop', 'pop', 'post-teen pop']</td>\n",
       "      <td>100</td>\n",
       "    </tr>\n",
       "    <tr>\n",
       "      <th>3</th>\n",
       "      <td>Justin Bieber</td>\n",
       "      <td>All Around The World</td>\n",
       "      <td>[Em, Bm, Am, C, Em, Bm, Am, C, Em, Bm, Am, C, ...</td>\n",
       "      <td>['canadian pop', 'pop', 'post-teen pop']</td>\n",
       "      <td>100</td>\n",
       "    </tr>\n",
       "    <tr>\n",
       "      <th>4</th>\n",
       "      <td>Justin Bieber</td>\n",
       "      <td>All Around The World (acoustic)</td>\n",
       "      <td>[Gm, Dm, C, C, Gm, Dm, C, C, Gm, Dm, C, C, Gm,...</td>\n",
       "      <td>['canadian pop', 'pop', 'post-teen pop']</td>\n",
       "      <td>100</td>\n",
       "    </tr>\n",
       "  </tbody>\n",
       "</table>\n",
       "</div>"
      ],
      "text/plain": [
       "     artist_name                        song_name   \n",
       "0  Justin Bieber                     10,000 Hours  \\\n",
       "1  Justin Bieber                           2 Much   \n",
       "2  Justin Bieber          2u (feat. David Guetta)   \n",
       "3  Justin Bieber             All Around The World   \n",
       "4  Justin Bieber  All Around The World (acoustic)   \n",
       "\n",
       "                                              chords   \n",
       "0  [G, G/B, C, G, G, G/B, C, G, G, Em, C, G, G, E...  \\\n",
       "1  [F#m7, D9, F#m7, D9, F#m7, D9, E, F#m7, A/C#, ...   \n",
       "2  [Em, D, C, C, D, Em, Em, D, C, C, D, Em, Em, D...   \n",
       "3  [Em, Bm, Am, C, Em, Bm, Am, C, Em, Bm, Am, C, ...   \n",
       "4  [Gm, Dm, C, C, Gm, Dm, C, C, Gm, Dm, C, C, Gm,...   \n",
       "\n",
       "                                     genres  popularity  \n",
       "0  ['canadian pop', 'pop', 'post-teen pop']         100  \n",
       "1  ['canadian pop', 'pop', 'post-teen pop']         100  \n",
       "2  ['canadian pop', 'pop', 'post-teen pop']         100  \n",
       "3  ['canadian pop', 'pop', 'post-teen pop']         100  \n",
       "4  ['canadian pop', 'pop', 'post-teen pop']         100  "
      ]
     },
     "execution_count": 7,
     "metadata": {},
     "output_type": "execute_result"
    }
   ],
   "source": [
    "# read from json\n",
    "filepath = 'data/cleaned_data.json'\n",
    "full_df = pd.read_json(filepath, orient='table')\n",
    "full_df.head()"
   ]
  },
  {
   "attachments": {},
   "cell_type": "markdown",
   "metadata": {},
   "source": [
    "## 1"
   ]
  },
  {
   "cell_type": "code",
   "execution_count": 2,
   "metadata": {},
   "outputs": [],
   "source": [
    "root = 'C'"
   ]
  },
  {
   "cell_type": "code",
   "execution_count": 3,
   "metadata": {},
   "outputs": [
    {
     "data": {
      "text/plain": [
       "['C', 'F', 'G']"
      ]
     },
     "execution_count": 3,
     "metadata": {},
     "output_type": "execute_result"
    }
   ],
   "source": [
    "chords.major_triad(root)\n",
    "chords.minor_triad(root)\n",
    "chords.diminished_triad(root)\n",
    "chords.augmented_triad(root)\n",
    "chords.suspended_triad(root)"
   ]
  },
  {
   "cell_type": "code",
   "execution_count": 5,
   "metadata": {},
   "outputs": [
    {
     "data": {
      "text/plain": [
       "['C', 'Eb', 'G', 'Bb']"
      ]
     },
     "execution_count": 5,
     "metadata": {},
     "output_type": "execute_result"
    }
   ],
   "source": [
    "chords.from_shorthand('Cm7')"
   ]
  },
  {
   "cell_type": "code",
   "execution_count": 9,
   "metadata": {},
   "outputs": [
    {
     "name": "stdout",
     "output_type": "stream",
     "text": [
      "['G', 'B', 'D']\n",
      "['B', 'G', 'B', 'D']\n",
      "['C', 'E', 'G']\n",
      "['G', 'B', 'D']\n",
      "['G', 'B', 'D']\n",
      "['B', 'G', 'B', 'D']\n",
      "['C', 'E', 'G']\n",
      "['G', 'B', 'D']\n",
      "['G', 'B', 'D']\n",
      "['E', 'G', 'B']\n",
      "['C', 'E', 'G']\n",
      "['G', 'B', 'D']\n",
      "['G', 'B', 'D']\n",
      "['E', 'G', 'B']\n",
      "['C', 'E', 'G']\n",
      "['G', 'B', 'D']\n",
      "['G', 'B', 'D']\n",
      "['E', 'G', 'B']\n",
      "['C', 'E', 'G']\n",
      "['G', 'B', 'D']\n",
      "['G', 'B', 'D']\n",
      "['E', 'G', 'B']\n",
      "['C', 'E', 'G']\n",
      "['G', 'B', 'D']\n",
      "['G', 'B', 'D']\n",
      "['E', 'G', 'B']\n",
      "['C', 'E', 'G']\n",
      "['G', 'B', 'D']\n",
      "['G', 'B', 'D']\n",
      "['E', 'G', 'B']\n",
      "['C', 'E', 'G']\n",
      "['G', 'B', 'D']\n",
      "['G', 'B', 'D']\n",
      "['E', 'G', 'B']\n",
      "['C', 'E', 'G']\n",
      "['G', 'B', 'D']\n",
      "['G', 'B', 'D']\n",
      "['B', 'G', 'B', 'D']\n",
      "['C', 'E', 'G']\n",
      "['G', 'B', 'D']\n",
      "['G', 'B', 'D']\n",
      "['B', 'G', 'B', 'D']\n",
      "['C', 'E', 'G']\n",
      "['G', 'B', 'D']\n",
      "['G', 'B', 'D']\n",
      "['E', 'G', 'B']\n",
      "['C', 'E', 'G']\n",
      "['G', 'B', 'D']\n",
      "['G', 'B', 'D']\n",
      "['E', 'G', 'B']\n",
      "['C', 'E', 'G']\n",
      "['G', 'B', 'D']\n",
      "['G', 'B', 'D']\n",
      "['E', 'G', 'B']\n",
      "['C', 'E', 'G']\n",
      "['G', 'B', 'D']\n",
      "['G', 'B', 'D']\n",
      "['E', 'G', 'B']\n",
      "['C', 'E', 'G']\n",
      "['G', 'B', 'D']\n",
      "['G', 'B', 'D']\n",
      "['E', 'G', 'B']\n",
      "['C', 'E', 'G']\n",
      "['G', 'B', 'D']\n",
      "['G', 'B', 'D']\n",
      "['E', 'G', 'B']\n",
      "['C', 'E', 'G']\n",
      "['G', 'B', 'D']\n",
      "['G', 'B', 'D']\n",
      "['E', 'G', 'B']\n",
      "['C', 'E', 'G']\n",
      "['G', 'B', 'D']\n",
      "['G', 'B', 'D']\n",
      "['E', 'G', 'B']\n",
      "['C', 'E', 'G']\n",
      "['G', 'B', 'D']\n",
      "['B', 'D', 'F#']\n",
      "['C', 'E', 'G']\n",
      "['B', 'D', 'F#']\n",
      "['C', 'E', 'G']\n",
      "['G', 'B', 'D']\n",
      "['E', 'G', 'B']\n",
      "['C', 'E', 'G']\n",
      "['G', 'B', 'D']\n",
      "['G', 'B', 'D']\n",
      "['E', 'G', 'B']\n",
      "['C', 'E', 'G']\n",
      "['G', 'B', 'D']\n",
      "['G', 'B', 'D']\n",
      "['E', 'G', 'B']\n",
      "['C', 'E', 'G']\n",
      "['G', 'B', 'D']\n",
      "['G', 'B', 'D']\n",
      "['E', 'G', 'B']\n",
      "['C', 'E', 'G']\n",
      "['G', 'B', 'D']\n",
      "['G', 'B', 'D']\n",
      "['E', 'G', 'B']\n",
      "['C', 'E', 'G']\n",
      "['G', 'B', 'D']\n",
      "['G', 'B', 'D']\n",
      "['E', 'G', 'B']\n",
      "['C', 'E', 'G']\n",
      "['G', 'B', 'D']\n",
      "['G', 'B', 'D']\n",
      "['E', 'G', 'B']\n",
      "['C', 'E', 'G']\n",
      "['C', 'E', 'G']\n",
      "['G', 'B', 'D']\n",
      "['G', 'B', 'D']\n",
      "['G', 'B', 'D']\n",
      "['E', 'G', 'B']\n",
      "['C', 'E', 'G']\n",
      "['G', 'B', 'D']\n"
     ]
    }
   ],
   "source": [
    "chords_df = full_df['chords']\n",
    "for ch in chords_df[0]:\n",
    "    print(chords.from_shorthand(ch))"
   ]
  },
  {
   "cell_type": "code",
   "execution_count": null,
   "metadata": {},
   "outputs": [],
   "source": []
  }
 ],
 "metadata": {
  "kernelspec": {
   "display_name": "chord-cleaning",
   "language": "python",
   "name": "python3"
  },
  "language_info": {
   "codemirror_mode": {
    "name": "ipython",
    "version": 3
   },
   "file_extension": ".py",
   "mimetype": "text/x-python",
   "name": "python",
   "nbconvert_exporter": "python",
   "pygments_lexer": "ipython3",
   "version": "3.10.6"
  },
  "orig_nbformat": 4
 },
 "nbformat": 4,
 "nbformat_minor": 2
}
